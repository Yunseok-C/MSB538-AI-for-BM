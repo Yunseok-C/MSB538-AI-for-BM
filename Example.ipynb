{
 "cells": [
  {
   "cell_type": "code",
   "execution_count": 17,
   "metadata": {},
   "outputs": [],
   "source": [
    "import tensorflow as tf\n",
    "import numpy as np\n",
    "import math\n",
    "import matplotlib.pyplot as plt\n",
    "import pandas as pd\n",
    "from tensorflow import keras\n",
    "from tensorflow.keras import layers"
   ]
  },
  {
   "cell_type": "code",
   "execution_count": 44,
   "metadata": {},
   "outputs": [
    {
     "name": "stdout",
     "output_type": "stream",
     "text": [
      "Model: \"HW9\"\n",
      "_________________________________________________________________\n",
      " Layer (type)                Output Shape              Param #   \n",
      "=================================================================\n",
      " input_1 (InputLayer)        [(None, 2)]               0         \n",
      "                                                                 \n",
      " dense (Dense)               (None, 2)                 6         \n",
      "                                                                 \n",
      " dense_1 (Dense)             (None, 2)                 6         \n",
      "                                                                 \n",
      "=================================================================\n",
      "Total params: 12\n",
      "Trainable params: 12\n",
      "Non-trainable params: 0\n",
      "_________________________________________________________________\n"
     ]
    }
   ],
   "source": [
    "tf.keras.backend.clear_session()\n",
    "\n",
    "inputs = tf.keras.Input(shape=(2,))\n",
    "\n",
    "layer = layers.Dense(2, activation='sigmoid')\n",
    "hidden = layer(inputs)\n",
    "\n",
    "outputs = layers.Dense(2, activation = 'sigmoid')(hidden)\n",
    "\n",
    "model = tf.keras.Model(inputs=inputs, outputs=outputs, name=\"HW9\")\n",
    "model.summary()"
   ]
  },
  {
   "cell_type": "code",
   "execution_count": 45,
   "metadata": {
    "scrolled": true
   },
   "outputs": [
    {
     "data": {
      "text/plain": [
       "[array([[ 0.11056805, -1.0056714 ],\n",
       "        [ 0.05756497, -0.06084239]], dtype=float32),\n",
       " array([0., 0.], dtype=float32),\n",
       " array([[ 0.6981696 ,  0.5180447 ],\n",
       "        [ 0.5896915 , -0.53648025]], dtype=float32),\n",
       " array([0., 0.], dtype=float32)]"
      ]
     },
     "execution_count": 45,
     "metadata": {},
     "output_type": "execute_result"
    }
   ],
   "source": [
    "model.get_weights()"
   ]
  },
  {
   "cell_type": "code",
   "execution_count": 46,
   "metadata": {},
   "outputs": [],
   "source": [
    "x = np.array([[0.2, 0.8]])\n",
    "y = np.array([[0, 1]])"
   ]
  },
  {
   "cell_type": "code",
   "execution_count": 47,
   "metadata": {},
   "outputs": [],
   "source": [
    "model.compile(optimizer = tf.keras.optimizers.SGD(learning_rate = 0.4), loss = 'mse', \n",
    "              metrics = ['accuracy'])\n",
    "history = model.fit(x=x, y=y, epochs = 1000, verbose = 0, batch_size = 1)"
   ]
  },
  {
   "cell_type": "code",
   "execution_count": 48,
   "metadata": {},
   "outputs": [
    {
     "data": {
      "text/plain": [
       "[array([[ 0.22259113, -1.0272397 ],\n",
       "        [ 0.5056569 , -0.14712057]], dtype=float32),\n",
       " array([ 0.56011486, -0.10784769], dtype=float32),\n",
       " array([[-0.8626992 ,  1.7738122 ],\n",
       "        [-0.44380265,  0.28603292]], dtype=float32),\n",
       " array([-2.7173564,  2.16547  ], dtype=float32)]"
      ]
     },
     "execution_count": 48,
     "metadata": {},
     "output_type": "execute_result"
    }
   ],
   "source": [
    "model.get_weights()"
   ]
  },
  {
   "cell_type": "code",
   "execution_count": 8,
   "metadata": {},
   "outputs": [],
   "source": [
    "#import tensorflow as tf\n",
    "import tensorflow.compat.v1 as tf\n",
    "\n",
    "import numpy as np\n",
    "import math\n",
    "import matplotlib.pyplot as plt\n",
    "import pandas as pd\n",
    "from tensorflow import keras\n",
    "from tensorflow.keras import layers\n",
    "\n",
    "tf.disable_v2_behavior()"
   ]
  },
  {
   "cell_type": "code",
   "execution_count": 9,
   "metadata": {},
   "outputs": [],
   "source": [
    "X = np.array([[0.2],[0.8]], dtype = np.float32)\n",
    "Y = np.array([[0],[1]], dtype = np.float32)"
   ]
  },
  {
   "cell_type": "code",
   "execution_count": 10,
   "metadata": {},
   "outputs": [],
   "source": [
    "w1 = tf.Variable([[0.15,0.25],[0.2,0.3]])\n",
    "w2 = tf.Variable([[0.4,0.5],[0.45,0.55]])"
   ]
  },
  {
   "cell_type": "code",
   "execution_count": 11,
   "metadata": {},
   "outputs": [],
   "source": [
    "hidden = tf.sigmoid(tf.matmul(w1,X)+[[0.2,0.2]])\n",
    "output = tf.sigmoid(tf.matmul(w2,hidden)+[[0.5,0.5]])\n",
    "\n",
    "loss = tf.reduce_mean(tf.square(output-Y))\n",
    "\n",
    "optimizer = tf.train.GradientDescentOptimizer(learning_rate=0.4)\n",
    "\n",
    "train = optimizer.minimize(loss)"
   ]
  },
  {
   "cell_type": "code",
   "execution_count": 14,
   "metadata": {},
   "outputs": [
    {
     "name": "stdout",
     "output_type": "stream",
     "text": [
      "0.29839587\n",
      "[array([[0.14930938, 0.24723752],\n",
      "       [0.19913545, 0.29654178]], dtype=float32), array([[0.3655354 , 0.46485993],\n",
      "       [0.46116534, 0.5613842 ]], dtype=float32)]\n",
      "[[0.73264945 0.73264945]\n",
      " [0.75501734 0.75501734]]\n",
      " \n",
      "0.29157138\n",
      "[array([[0.14870618, 0.24482474],\n",
      "       [0.19835524, 0.29342094]], dtype=float32), array([[0.33078873, 0.4294393 ],\n",
      "       [0.47213688, 0.57256854]], dtype=float32)]\n",
      "[[0.7240791  0.7240791 ]\n",
      " [0.75740516 0.75740516]]\n",
      " \n",
      "0.28469175\n",
      "[array([[0.1481936 , 0.24277441],\n",
      "       [0.1976629 , 0.2906516 ]], dtype=float32), array([[0.2957906 , 0.39376974],\n",
      "       [0.48292089, 0.5835594 ]], dtype=float32)]\n",
      "[[0.71530455 0.71530455]\n",
      " [0.75974405 0.75974405]]\n",
      " \n"
     ]
    }
   ],
   "source": [
    "with tf.Session() as sess:\n",
    "    sess.run(tf.global_variables_initializer())\n",
    "    for step in range(100000):\n",
    "        if step in [0,1,2] :\n",
    "            sess.run(train)\n",
    "            print(sess.run(loss))\n",
    "            print(sess.run([w1,w2]))\n",
    "            print(sess.run(output))\n",
    "            print(' ')"
   ]
  },
  {
   "cell_type": "code",
   "execution_count": null,
   "metadata": {},
   "outputs": [],
   "source": []
  },
  {
   "cell_type": "code",
   "execution_count": null,
   "metadata": {},
   "outputs": [],
   "source": []
  },
  {
   "cell_type": "code",
   "execution_count": null,
   "metadata": {},
   "outputs": [],
   "source": []
  },
  {
   "cell_type": "code",
   "execution_count": null,
   "metadata": {},
   "outputs": [],
   "source": []
  }
 ],
 "metadata": {
  "kernelspec": {
   "display_name": "Python 3 (ipykernel)",
   "language": "python",
   "name": "python3"
  },
  "language_info": {
   "codemirror_mode": {
    "name": "ipython",
    "version": 3
   },
   "file_extension": ".py",
   "mimetype": "text/x-python",
   "name": "python",
   "nbconvert_exporter": "python",
   "pygments_lexer": "ipython3",
   "version": "3.8.5"
  }
 },
 "nbformat": 4,
 "nbformat_minor": 4
}
