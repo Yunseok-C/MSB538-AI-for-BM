{
 "cells": [
  {
   "cell_type": "code",
   "execution_count": null,
   "metadata": {
    "id": "XY5N3ZVu0yrX"
   },
   "outputs": [],
   "source": [
    "import tensorflow as tf\n",
    "import numpy as np\n",
    "import math\n",
    "import matplotlib.pyplot as plt\n",
    "from tensorflow import keras\n",
    "from tensorflow.keras import layers"
   ]
  },
  {
   "cell_type": "code",
   "execution_count": null,
   "metadata": {
    "id": "mvsZi6r89t7P"
   },
   "outputs": [],
   "source": [
    "lr = [0.05,0.1,0.15, 0.2]\n",
    "x = np.array([[1,1],[1,0],[0,1],[0,0]])\n",
    "y = np.array([[0],[1],[1],[0]])"
   ]
  },
  {
   "cell_type": "code",
   "execution_count": null,
   "metadata": {
    "id": "xPbRzNBRRGIC"
   },
   "outputs": [],
   "source": [
    "def plot_accuracy(history):\n",
    "  plt.plot(history.history['accuracy'])\n",
    "  plt.title('Model Accuracy')\n",
    "  plt.xlabel('Epochs')\n",
    "  plt.ylabel('Accuracy Value')\n",
    "  return plt.show()"
   ]
  },
  {
   "cell_type": "code",
   "execution_count": null,
   "metadata": {
    "id": "qFGwicwvRV7I"
   },
   "outputs": [],
   "source": [
    "def plot_loss(history):\n",
    "  plt.plot(history.history['loss'])\n",
    "  plt.title('Model Loss')\n",
    "  plt.xlabel('Epochs')\n",
    "  plt.ylabel('Loss Value')\n",
    "  return plt.show()"
   ]
  },
  {
   "cell_type": "code",
   "execution_count": null,
   "metadata": {
    "id": "1Gzy7exQU8Dz"
   },
   "outputs": [],
   "source": [
    "def eval_predict(model):\n",
    "  global x, y\n",
    "  print(model.evaluate(x,y))\n",
    "  print(model.predict(x))\n",
    "  print((model.predict(x) > 0.5).astype(\"int32\"))"
   ]
  },
  {
   "cell_type": "code",
   "execution_count": null,
   "metadata": {
    "id": "4w42eZrNH0qR"
   },
   "outputs": [],
   "source": [
    "model_1layer = tf.keras.Sequential([\n",
    "    tf.keras.layers.Dense(units=2, activation='sigmoid', input_shape=(2,)),b\n",
    "    tf.keras.layers.Dense(units=1, activation='sigmoid')\n",
    "])"
   ]
  },
  {
   "cell_type": "code",
   "execution_count": null,
   "metadata": {
    "colab": {
     "base_uri": "https://localhost:8080/"
    },
    "id": "h3bAI77wPkV9",
    "outputId": "0274e7ee-b527-4820-ab46-b25b84ecf091"
   },
   "outputs": [
    {
     "name": "stdout",
     "output_type": "stream",
     "text": [
      "1/1 [==============================] - 0s 85ms/step - loss: 0.0047 - accuracy: 1.0000\n",
      "1/1 [==============================] - 0s 86ms/step - loss: 0.0030 - accuracy: 1.0000\n",
      "1/1 [==============================] - 0s 87ms/step - loss: 0.0042 - accuracy: 1.0000\n",
      "1/1 [==============================] - 0s 92ms/step - loss: 0.2499 - accuracy: 0.2500\n",
      "1/1 [==============================] - 0s 86ms/step - loss: 0.0069 - accuracy: 1.0000\n",
      "1/1 [==============================] - 0s 95ms/step - loss: 0.0059 - accuracy: 1.0000\n",
      "1/1 [==============================] - 0s 85ms/step - loss: 0.0035 - accuracy: 1.0000\n",
      "1/1 [==============================] - 0s 86ms/step - loss: 0.2435 - accuracy: 0.7500\n",
      "1/1 [==============================] - 0s 89ms/step - loss: 0.0030 - accuracy: 1.0000\n",
      "1/1 [==============================] - 0s 91ms/step - loss: 0.0074 - accuracy: 1.0000\n"
     ]
    },
    {
     "data": {
      "text/plain": [
       "0.9"
      ]
     },
     "execution_count": 91,
     "metadata": {},
     "output_type": "execute_result"
    }
   ],
   "source": [
    "acc = []\n",
    "for i in range(10):\n",
    "  tf.keras.backend.clear_session() \n",
    "  model_1layer = tf.keras.Sequential([\n",
    "      tf.keras.layers.Dense(units=2, activation='sigmoid', input_shape=(2,)),\n",
    "      tf.keras.layers.Dense(units=1, activation='sigmoid')\n",
    "  ])\n",
    "  model_1layer.compile(optimizer=tf.keras.optimizers.SGD(learning_rate=lr[3]), loss='mse', metrics = ['accuracy'])\n",
    "  model_1layer.fit(x,y,epochs = 2000, verbose = 0, batch_size = 1)\n",
    "  acc.append(model_1layer.evaluate(x,y)[1])\n",
    "np.mean(acc)"
   ]
  },
  {
   "cell_type": "code",
   "execution_count": null,
   "metadata": {
    "colab": {
     "base_uri": "https://localhost:8080/"
    },
    "id": "g2nO4gnVISzX",
    "outputId": "cbd34841-c757-49fd-b210-ebb040b8a6c9"
   },
   "outputs": [
    {
     "name": "stdout",
     "output_type": "stream",
     "text": [
      "1/1 [==============================] - 0s 90ms/step - loss: 0.2500 - accuracy: 0.5000\n",
      "1/1 [==============================] - 0s 98ms/step - loss: 0.1693 - accuracy: 0.7500\n",
      "1/1 [==============================] - 0s 91ms/step - loss: 0.2499 - accuracy: 0.2500\n",
      "1/1 [==============================] - 0s 94ms/step - loss: 0.2498 - accuracy: 0.5000\n",
      "1/1 [==============================] - 0s 90ms/step - loss: 0.0057 - accuracy: 1.0000\n",
      "1/1 [==============================] - 0s 92ms/step - loss: 0.2500 - accuracy: 0.5000\n",
      "1/1 [==============================] - 0s 89ms/step - loss: 0.2499 - accuracy: 0.5000\n",
      "1/1 [==============================] - 0s 95ms/step - loss: 0.1115 - accuracy: 0.7500\n",
      "1/1 [==============================] - 0s 90ms/step - loss: 0.2497 - accuracy: 0.5000\n",
      "1/1 [==============================] - 0s 91ms/step - loss: 0.2476 - accuracy: 0.5000\n"
     ]
    },
    {
     "data": {
      "text/plain": [
       "0.575"
      ]
     },
     "execution_count": 94,
     "metadata": {},
     "output_type": "execute_result"
    }
   ],
   "source": [
    "acc = []\n",
    "for i in range(10):\n",
    "  tf.keras.backend.clear_session() \n",
    "  model_2layer_1 = tf.keras.Sequential([\n",
    "      tf.keras.layers.Dense(units=2, activation='sigmoid', input_shape=(2,)),\n",
    "      tf.keras.layers.Dense(units=2, activation='sigmoid'),\n",
    "      tf.keras.layers.Dense(units=1, activation='sigmoid')\n",
    "  ])\n",
    "  model_2layer_1.compile(optimizer=tf.keras.optimizers.SGD(learning_rate=lr[3]), loss='mse', metrics = ['accuracy'])\n",
    "  model_2layer_1.fit(x,y,epochs = 2000, verbose = 0, batch_size = 1)\n",
    "  acc.append(model_2layer_1.evaluate(x,y)[1])\n",
    "np.mean(acc)"
   ]
  },
  {
   "cell_type": "code",
   "execution_count": null,
   "metadata": {
    "colab": {
     "base_uri": "https://localhost:8080/"
    },
    "id": "Li8BYyCgL8e4",
    "outputId": "ecc67bb7-985f-4a23-998a-ad6a87fa2f3f"
   },
   "outputs": [
    {
     "name": "stdout",
     "output_type": "stream",
     "text": [
      "1/1 [==============================] - 0s 89ms/step - loss: 0.1807 - accuracy: 0.7500\n"
     ]
    },
    {
     "data": {
      "text/plain": [
       "[0.18065059185028076, 0.75]"
      ]
     },
     "execution_count": 85,
     "metadata": {},
     "output_type": "execute_result"
    }
   ],
   "source": [
    "tf.keras.backend.clear_session() \n",
    "model_1layer = tf.keras.Sequential([\n",
    "    tf.keras.layers.Dense(units=2, activation='sigmoid', input_shape=(2,)),\n",
    "    tf.keras.layers.Dense(units=1, activation='sigmoid')\n",
    "])\n",
    "model_1layer.compile(optimizer=tf.keras.optimizers.SGD(learning_rate=20), loss='mse', metrics = ['accuracy'])\n",
    "model_1layer.fit(x,y,epochs = 2000, verbose = 0, batch_size = 1)\n",
    "model_1layer.evaluate(x,y)"
   ]
  },
  {
   "cell_type": "code",
   "execution_count": null,
   "metadata": {
    "colab": {
     "base_uri": "https://localhost:8080/"
    },
    "id": "-4VtKuVBQLS7",
    "outputId": "72911a0a-bd29-4202-deb1-d270d26c8764"
   },
   "outputs": [
    {
     "name": "stdout",
     "output_type": "stream",
     "text": [
      "1/1 [==============================] - 0s 92ms/step - loss: 0.0053 - accuracy: 1.0000\n"
     ]
    },
    {
     "data": {
      "text/plain": [
       "[0.005341964773833752, 1.0]"
      ]
     },
     "execution_count": 96,
     "metadata": {},
     "output_type": "execute_result"
    }
   ],
   "source": [
    "tf.keras.backend.clear_session() \n",
    "model_2layer_1 = tf.keras.Sequential([\n",
    "    tf.keras.layers.Dense(units=2, activation='sigmoid', input_shape=(2,)),\n",
    "    tf.keras.layers.Dense(units=2, activation='sigmoid'),\n",
    "    tf.keras.layers.Dense(units=1, activation='sigmoid')\n",
    "])\n",
    "model_2layer_1.compile(optimizer=tf.keras.optimizers.SGD(learning_rate=0.5), loss='mse', metrics = ['accuracy'])\n",
    "model_2layer_1.fit(x,y,epochs = 2000, verbose = 0, batch_size = 1)\n",
    "model_2layer_1.evaluate(x,y)"
   ]
  },
  {
   "cell_type": "markdown",
   "metadata": {
    "id": "KgxlX6JCTA8a"
   },
   "source": [
    "Three networks with two sequential api and one functional api.\n",
    "learning rate = 0.1, epochs = 2000."
   ]
  },
  {
   "cell_type": "code",
   "execution_count": null,
   "metadata": {
    "colab": {
     "base_uri": "https://localhost:8080/",
     "height": 621
    },
    "id": "9DAXoiDMIjrs",
    "outputId": "b5e6d19d-8017-4c04-d5b3-a9eb889f376e"
   },
   "outputs": [
    {
     "name": "stdout",
     "output_type": "stream",
     "text": [
      "Model: \"sequential\"\n",
      "_________________________________________________________________\n",
      "Layer (type)                 Output Shape              Param #   \n",
      "=================================================================\n",
      "dense (Dense)                (None, 2)                 6         \n",
      "_________________________________________________________________\n",
      "dense_1 (Dense)              (None, 2)                 6         \n",
      "_________________________________________________________________\n",
      "dense_2 (Dense)              (None, 1)                 3         \n",
      "=================================================================\n",
      "Total params: 15\n",
      "Trainable params: 15\n",
      "Non-trainable params: 0\n",
      "_________________________________________________________________\n"
     ]
    },
    {
     "data": {
      "image/png": "[encoded data removed]",
      "text/plain": [
       "<IPython.core.display.Image object>"
      ]
     },
     "execution_count": 181,
     "metadata": {},
     "output_type": "execute_result"
    }
   ],
   "source": [
    "tf.keras.backend.clear_session() \n",
    "model_2layer_1 = tf.keras.Sequential([\n",
    "    tf.keras.layers.Dense(units=2, activation='sigmoid', input_shape=(2,)),\n",
    "    tf.keras.layers.Dense(units=2, activation='sigmoid'),\n",
    "    tf.keras.layers.Dense(units=1, activation='sigmoid')\n",
    "])\n",
    "model_2layer_1.summary()\n",
    "keras.utils.plot_model(model_2layer_1)"
   ]
  },
  {
   "cell_type": "code",
   "execution_count": null,
   "metadata": {
    "colab": {
     "base_uri": "https://localhost:8080/",
     "height": 753
    },
    "id": "DoJKD3rKLjzI",
    "outputId": "822370c2-b6c3-4e00-ed33-d384398e7718"
   },
   "outputs": [
    {
     "name": "stdout",
     "output_type": "stream",
     "text": [
      "1/1 [==============================] - 0s 101ms/step - loss: 0.0048 - accuracy: 1.0000\n",
      "[0.004795474465936422, 1.0]\n",
      "[[0.08828101]\n",
      " [0.93236685]\n",
      " [0.9321183 ]\n",
      " [0.04697013]]\n",
      "[[0]\n",
      " [1]\n",
      " [1]\n",
      " [0]]\n"
     ]
    },
    {
     "data": {
      "image/png": "[encoded data removed]",
      "text/plain": [
       "<Figure size 432x288 with 1 Axes>"
      ]
     },
     "metadata": {
      "needs_background": "light"
     },
     "output_type": "display_data"
    },
    {
     "data": {
      "image/png": "[encoded data removed]",
      "text/plain": [
       "<Figure size 432x288 with 1 Axes>"
      ]
     },
     "metadata": {
      "needs_background": "light"
     },
     "output_type": "display_data"
    }
   ],
   "source": [
    "model_2layer_1.compile(optimizer=tf.keras.optimizers.SGD(learning_rate=lr[3]), loss='mse', metrics = ['accuracy'])\n",
    "history_2layer_1 = model_2layer_1.fit(x,y,epochs = 2000, verbose = 0, batch_size = 1)\n",
    "eval_predict(model_2layer_1)\n",
    "plot_loss(history_2layer_1)\n",
    "plot_accuracy(history_2layer_1)"
   ]
  },
  {
   "cell_type": "code",
   "execution_count": null,
   "metadata": {
    "colab": {
     "base_uri": "https://localhost:8080/",
     "height": 621
    },
    "id": "QZHAONVWCBP1",
    "outputId": "dafc49b7-b08a-403d-9a32-721be4e5210a"
   },
   "outputs": [
    {
     "name": "stdout",
     "output_type": "stream",
     "text": [
      "Model: \"sequential\"\n",
      "_________________________________________________________________\n",
      "Layer (type)                 Output Shape              Param #   \n",
      "=================================================================\n",
      "dense (Dense)                (None, 2)                 6         \n",
      "_________________________________________________________________\n",
      "dense_1 (Dense)              (None, 2)                 6         \n",
      "_________________________________________________________________\n",
      "dense_2 (Dense)              (None, 1)                 3         \n",
      "=================================================================\n",
      "Total params: 15\n",
      "Trainable params: 15\n",
      "Non-trainable params: 0\n",
      "_________________________________________________________________\n"
     ]
    },
    {
     "data": {
      "image/png": "[encoded data removed]",
      "text/plain": [
       "<IPython.core.display.Image object>"
      ]
     },
     "execution_count": 183,
     "metadata": {},
     "output_type": "execute_result"
    }
   ],
   "source": [
    "tf.keras.backend.clear_session()\n",
    "model_2layer_2 = keras.Sequential()\n",
    "model_2layer_2.add(layers.Dense(2,activation='sigmoid',input_shape=(2,)))\n",
    "model_2layer_2.add(layers.Dense(2,activation='sigmoid'))\n",
    "model_2layer_2.add(layers.Dense(1,activation='sigmoid'))\n",
    "model_2layer_2.summary()\n",
    "keras.utils.plot_model(model_2layer_2)"
   ]
  },
  {
   "cell_type": "code",
   "execution_count": null,
   "metadata": {
    "id": "gpdR3pmJ5CJw"
   },
   "outputs": [],
   "source": [
    "model_2layer_2.compile(optimizer=tf.keras.optimizers.SGD(learning_rate=lr[3]), loss='mse', metrics=['accuracy'])\n",
    "history_2layer_2 = model_2layer_2.fit(x, y, epochs = 2000, batch_size = 1, verbose=0)"
   ]
  },
  {
   "cell_type": "code",
   "execution_count": null,
   "metadata": {
    "colab": {
     "base_uri": "https://localhost:8080/",
     "height": 753
    },
    "id": "hGHJDm1rGwzo",
    "outputId": "7b09de55-3dde-44b3-a03c-8d73fc2a0768"
   },
   "outputs": [
    {
     "name": "stdout",
     "output_type": "stream",
     "text": [
      "1/1 [==============================] - 0s 98ms/step - loss: 0.0635 - accuracy: 1.0000\n",
      "[0.06346578896045685, 1.0]\n",
      "[[0.31010506]\n",
      " [0.73143804]\n",
      " [0.7373501 ]\n",
      " [0.12879252]]\n",
      "[[0]\n",
      " [1]\n",
      " [1]\n",
      " [0]]\n"
     ]
    },
    {
     "data": {
      "image/png": "[encoded data removed]",
      "text/plain": [
       "<Figure size 432x288 with 1 Axes>"
      ]
     },
     "metadata": {
      "needs_background": "light"
     },
     "output_type": "display_data"
    },
    {
     "data": {
      "image/png": "[encoded data removed]",
      "text/plain": [
       "<Figure size 432x288 with 1 Axes>"
      ]
     },
     "metadata": {
      "needs_background": "light"
     },
     "output_type": "display_data"
    }
   ],
   "source": [
    "eval_predict(model_2layer_2)\n",
    "plot_loss(history_2layer_2)\n",
    "plot_accuracy(history_2layer_2)"
   ]
  },
  {
   "cell_type": "code",
   "execution_count": null,
   "metadata": {
    "colab": {
     "base_uri": "https://localhost:8080/",
     "height": 657
    },
    "id": "tUMrL6iLH4Lt",
    "outputId": "3648c853-20fe-47b1-badb-49475e15f083"
   },
   "outputs": [
    {
     "name": "stdout",
     "output_type": "stream",
     "text": [
      "Model: \"XOR_FNN\"\n",
      "_________________________________________________________________\n",
      "Layer (type)                 Output Shape              Param #   \n",
      "=================================================================\n",
      "input_1 (InputLayer)         [(None, 2)]               0         \n",
      "_________________________________________________________________\n",
      "dense (Dense)                (None, 2)                 6         \n",
      "_________________________________________________________________\n",
      "dense_1 (Dense)              (None, 2)                 6         \n",
      "_________________________________________________________________\n",
      "dense_2 (Dense)              (None, 1)                 3         \n",
      "=================================================================\n",
      "Total params: 15\n",
      "Trainable params: 15\n",
      "Non-trainable params: 0\n",
      "_________________________________________________________________\n"
     ]
    },
    {
     "data": {
      "image/png": "[encoded data removed]",
      "text/plain": [
       "<IPython.core.display.Image object>"
      ]
     },
     "execution_count": 186,
     "metadata": {},
     "output_type": "execute_result"
    }
   ],
   "source": [
    "tf.keras.backend.clear_session()\n",
    "inputs = tf.keras.Input(shape=(2,))\n",
    "layer1 = layers.Dense(2, activation='sigmoid')\n",
    "h1 = layer1(inputs)\n",
    "layer2 = layers.Dense(2, activation='sigmoid')\n",
    "h2 = layer2(h1)\n",
    "outputs = layers.Dense(1)(h2)\n",
    "model_2layer_3 = tf.keras.Model(inputs=inputs, outputs=outputs, name=\"XOR_FNN\")\n",
    "model_2layer_3.summary()\n",
    "keras.utils.plot_model(model_2layer_3)"
   ]
  },
  {
   "cell_type": "code",
   "execution_count": null,
   "metadata": {
    "colab": {
     "base_uri": "https://localhost:8080/",
     "height": 753
    },
    "id": "qGsiThA7H4IX",
    "outputId": "a4007698-e130-4fdc-c854-9f74c15fbd57"
   },
   "outputs": [
    {
     "name": "stdout",
     "output_type": "stream",
     "text": [
      "1/1 [==============================] - 0s 101ms/step - loss: 1.0658e-14 - accuracy: 1.0000\n",
      "[1.0658141036401503e-14, 1.0]\n",
      "[[0.       ]\n",
      " [0.9999999]\n",
      " [1.0000001]\n",
      " [0.       ]]\n",
      "[[0]\n",
      " [1]\n",
      " [1]\n",
      " [0]]\n"
     ]
    },
    {
     "data": {
      "image/png": "[encoded data removed]",
      "text/plain": [
       "<Figure size 432x288 with 1 Axes>"
      ]
     },
     "metadata": {
      "needs_background": "light"
     },
     "output_type": "display_data"
    },
    {
     "data": {
      "image/png": "[encoded data removed]",
      "text/plain": [
       "<Figure size 432x288 with 1 Axes>"
      ]
     },
     "metadata": {
      "needs_background": "light"
     },
     "output_type": "display_data"
    }
   ],
   "source": [
    "model_2layer_3.compile(optimizer=tf.keras.optimizers.SGD(learning_rate=lr[3]), loss='mse', metrics=['accuracy'])\n",
    "history_2layer_3 = model_2layer_3.fit(x, y, epochs = 2000, batch_size = 1, verbose=0)\n",
    "eval_predict(model_2layer_3)\n",
    "plot_loss(history_2layer_3)\n",
    "plot_accuracy(history_2layer_3)"
   ]
  }
 ],
 "metadata": {
  "colab": {
   "collapsed_sections": [],
   "name": "HW#8.ipynb",
   "provenance": []
  },
  "kernelspec": {
   "display_name": "Python 3 (ipykernel)",
   "language": "python",
   "name": "python3"
  },
  "language_info": {
   "codemirror_mode": {
    "name": "ipython",
    "version": 3
   },
   "file_extension": ".py",
   "mimetype": "text/x-python",
   "name": "python",
   "nbconvert_exporter": "python",
   "pygments_lexer": "ipython3",
   "version": "3.8.5"
  }
 },
 "nbformat": 4,
 "nbformat_minor": 1
}
