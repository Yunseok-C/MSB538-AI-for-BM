{
 "cells": [
  {
   "cell_type": "code",
   "execution_count": 1,
   "metadata": {},
   "outputs": [],
   "source": [
    "import tensorflow as tf\n",
    "import numpy as np\n",
    "import matplotlib.pyplot as plt\n",
    "import tensorflow_datasets as tfds\n",
    "import datetime"
   ]
  },
  {
   "cell_type": "markdown",
   "metadata": {},
   "source": [
    "__1. Softmax classification with mnist for tf.keras.datasets__"
   ]
  },
  {
   "cell_type": "code",
   "execution_count": 10,
   "metadata": {},
   "outputs": [],
   "source": [
    "#loading mnist dataset from tf.keras.datasets\n",
    "mnist = tf.keras.datasets.mnist\n",
    "(x_train,y_train),(x_test,y_test) = mnist.load_data()\n",
    "x_train, x_test = x_train / 255.0 , x_test / 255.0\n",
    "#x_train[0]"
   ]
  },
  {
   "cell_type": "code",
   "execution_count": 11,
   "metadata": {},
   "outputs": [
    {
     "name": "stdout",
     "output_type": "stream",
     "text": [
      "<class 'numpy.ndarray'> (60000, 28, 28) <class 'numpy.ndarray'> (60000,)\n"
     ]
    },
    {
     "data": {
      "image/png": "[encoded data removed]",
      "text/plain": [
       "<Figure size 432x288 with 1 Axes>"
      ]
     },
     "metadata": {
      "needs_background": "light"
     },
     "output_type": "display_data"
    },
    {
     "data": {
      "text/plain": [
       "5"
      ]
     },
     "execution_count": 11,
     "metadata": {},
     "output_type": "execute_result"
    }
   ],
   "source": [
    "#understanding the dataset\n",
    "print(type(x_train),x_train.shape,type(y_train),y_train.shape)\n",
    "plt.imshow(x_train[0])\n",
    "plt.show()\n",
    "y_train[0]"
   ]
  },
  {
   "cell_type": "code",
   "execution_count": 12,
   "metadata": {},
   "outputs": [
    {
     "data": {
      "image/png": "[encoded data removed]",
      "text/plain": [
       "<Figure size 576x288 with 10 Axes>"
      ]
     },
     "metadata": {},
     "output_type": "display_data"
    }
   ],
   "source": [
    "fig = plt.figure(figsize=(8,4))\n",
    "for c, (image,label) in enumerate(zip(x_train[:10], y_train[0:10])):\n",
    "    subplot = fig.add_subplot(2,5,c+1)\n",
    "    subplot.set_xticks([])\n",
    "    subplot.set_yticks([])\n",
    "    subplot.set_title(label)\n",
    "    subplot.imshow(image,vmin=0, vmax=1,\n",
    "                  cmap=plt.cm.gray_r, interpolation = \"nearest\")"
   ]
  },
  {
   "cell_type": "code",
   "execution_count": 13,
   "metadata": {},
   "outputs": [
    {
     "name": "stdout",
     "output_type": "stream",
     "text": [
      "Model: \"sequential\"\n",
      "_________________________________________________________________\n",
      " Layer (type)                Output Shape              Param #   \n",
      "=================================================================\n",
      " flatten (Flatten)           (None, 784)               0         \n",
      "                                                                 \n",
      " dense (Dense)               (None, 128)               100480    \n",
      "                                                                 \n",
      " dropout (Dropout)           (None, 128)               0         \n",
      "                                                                 \n",
      " dense_1 (Dense)             (None, 10)                1290      \n",
      "                                                                 \n",
      "=================================================================\n",
      "Total params: 101,770\n",
      "Trainable params: 101,770\n",
      "Non-trainable params: 0\n",
      "_________________________________________________________________\n"
     ]
    }
   ],
   "source": [
    "tf.keras.backend.clear_session()\n",
    "model = tf.keras.models.Sequential([\n",
    "    tf.keras.layers.Flatten(input_shape=(28,28)),\n",
    "    tf.keras.layers.Dense(128, activation='relu'),\n",
    "    tf.keras.layers.Dropout(0.2),\n",
    "    tf.keras.layers.Dense(10,activation = 'softmax')\n",
    "])\n",
    "\n",
    "model.compile(optimizer='adam',\n",
    "             loss='sparse_categorical_crossentropy',\n",
    "             metrics=['accuracy'])\n",
    "\n",
    "model.summary()"
   ]
  },
  {
   "cell_type": "code",
   "execution_count": 17,
   "metadata": {},
   "outputs": [],
   "source": [
    "# tensorboard preparation\n",
    "logdir = \"logs$$fit$$\"+ datetime.datetime.now().strftime(\"%Y%m%d-%H%M%S\")\n",
    "tensorboard_callback = tf.keras.callbacks.TensorBoard(log_dir = logdir, histogram_freq=1)"
   ]
  },
  {
   "cell_type": "code",
   "execution_count": 18,
   "metadata": {},
   "outputs": [
    {
     "name": "stdout",
     "output_type": "stream",
     "text": [
      "Epoch 1/7\n",
      "352/352 [==============================] - 1s 2ms/step - loss: 0.4601 - accuracy: 0.8691 - val_loss: 0.2277 - val_accuracy: 0.9358\n",
      "Epoch 2/7\n",
      "352/352 [==============================] - 1s 2ms/step - loss: 0.2153 - accuracy: 0.9379 - val_loss: 0.1692 - val_accuracy: 0.9505\n",
      "Epoch 3/7\n",
      "352/352 [==============================] - 1s 2ms/step - loss: 0.1627 - accuracy: 0.9525 - val_loss: 0.1386 - val_accuracy: 0.9595\n",
      "Epoch 4/7\n",
      "352/352 [==============================] - 1s 2ms/step - loss: 0.1316 - accuracy: 0.9619 - val_loss: 0.1214 - val_accuracy: 0.9642\n",
      "Epoch 5/7\n",
      "352/352 [==============================] - 1s 2ms/step - loss: 0.1107 - accuracy: 0.9687 - val_loss: 0.1125 - val_accuracy: 0.9667\n",
      "Epoch 6/7\n",
      "352/352 [==============================] - 1s 2ms/step - loss: 0.0958 - accuracy: 0.9722 - val_loss: 0.1030 - val_accuracy: 0.9689\n",
      "Epoch 7/7\n",
      "352/352 [==============================] - 1s 2ms/step - loss: 0.0835 - accuracy: 0.9754 - val_loss: 0.0995 - val_accuracy: 0.9713\n"
     ]
    }
   ],
   "source": [
    "# fitting the model and keeping the outcome in result object\n",
    "result = model.fit(x_train, y_train, epochs=7, batch_size = 128, validation_split = 0.25, callbacks = [tensorboard_callback])"
   ]
  },
  {
   "cell_type": "code",
   "execution_count": 19,
   "metadata": {},
   "outputs": [
    {
     "name": "stdout",
     "output_type": "stream",
     "text": [
      "313/313 - 0s - loss: 0.0863 - accuracy: 0.9742 - 181ms/epoch - 577us/step\n"
     ]
    },
    {
     "data": {
      "text/plain": [
       "[0.08632748574018478, 0.9742000102996826]"
      ]
     },
     "execution_count": 19,
     "metadata": {},
     "output_type": "execute_result"
    }
   ],
   "source": [
    "# Evaluating\n",
    "model.evaluate(x_test, y_test, verbose = 2)"
   ]
  },
  {
   "cell_type": "code",
   "execution_count": 20,
   "metadata": {},
   "outputs": [
    {
     "data": {
      "image/png": "[encoded data removed]",
      "text/plain": [
       "<Figure size 864x288 with 2 Axes>"
      ]
     },
     "metadata": {
      "needs_background": "light"
     },
     "output_type": "display_data"
    }
   ],
   "source": [
    "# Checking loss and accuracy \n",
    "plt.figure(figsize=(12,4))\n",
    "\n",
    "plt.subplot(1,2,1)\n",
    "plt.plot(result.history['loss'],'b-', label ='loss')\n",
    "plt.plot(result.history['val_loss'],'r--',label ='val_loss')\n",
    "plt.xlabel('Epoch')\n",
    "plt.legend()\n",
    "\n",
    "plt.subplot(1,2,2)\n",
    "plt.plot(result.history['accuracy'],'g--',label = 'accuracy')\n",
    "plt.plot(result.history['val_accuracy'],'k--', label = 'val_accuracy')\n",
    "plt.xlabel('Epoch')\n",
    "plt.legend()\n",
    "\n",
    "plt.show()"
   ]
  },
  {
   "cell_type": "code",
   "execution_count": 21,
   "metadata": {},
   "outputs": [
    {
     "name": "stdout",
     "output_type": "stream",
     "text": [
      "(10000, 10) <class 'numpy.ndarray'>\n",
      "[[0.    0.    0.    0.002 0.    0.    0.    0.998 0.    0.   ]\n",
      " [0.    0.    1.    0.    0.    0.    0.    0.    0.    0.   ]\n",
      " [0.    0.996 0.    0.    0.    0.    0.    0.002 0.001 0.   ]\n",
      " [1.    0.    0.    0.    0.    0.    0.    0.    0.    0.   ]\n",
      " [0.    0.    0.    0.    0.998 0.    0.    0.    0.    0.001]\n",
      " [0.    0.999 0.    0.    0.    0.    0.    0.001 0.    0.   ]\n",
      " [0.    0.    0.    0.    0.997 0.    0.    0.    0.001 0.002]\n",
      " [0.    0.    0.001 0.    0.001 0.    0.    0.    0.    0.997]\n",
      " [0.    0.    0.001 0.    0.    0.163 0.836 0.    0.    0.   ]\n",
      " [0.    0.    0.    0.    0.003 0.    0.    0.001 0.    0.996]\n",
      " [1.    0.    0.    0.    0.    0.    0.    0.    0.    0.   ]\n",
      " [0.001 0.    0.    0.    0.    0.    0.997 0.    0.001 0.   ]\n",
      " [0.    0.    0.    0.    0.    0.    0.    0.    0.    0.999]\n",
      " [1.    0.    0.    0.    0.    0.    0.    0.    0.    0.   ]\n",
      " [0.    0.999 0.    0.001 0.    0.    0.    0.    0.    0.   ]\n",
      " [0.    0.    0.    0.008 0.    0.991 0.    0.    0.    0.   ]\n",
      " [0.    0.    0.    0.    0.001 0.    0.    0.    0.    0.998]\n",
      " [0.    0.    0.    0.    0.    0.    0.    1.    0.    0.   ]\n",
      " [0.    0.003 0.017 0.948 0.    0.012 0.003 0.    0.015 0.003]\n",
      " [0.    0.    0.    0.    1.    0.    0.    0.    0.    0.   ]]\n"
     ]
    }
   ],
   "source": [
    "# Prediction for testset\n",
    "pred_prob = model.predict(x_test)\n",
    "print(pred_prob.shape, type(pred_prob))\n",
    "print(np.round(pred_prob[:20,:],3))"
   ]
  },
  {
   "cell_type": "code",
   "execution_count": 24,
   "metadata": {},
   "outputs": [
    {
     "name": "stdout",
     "output_type": "stream",
     "text": [
      "7 7\n",
      "2 2\n",
      "1 1\n",
      "0 0\n",
      "4 4\n",
      "1 1\n",
      "4 4\n",
      "9 9\n",
      "6 5\n",
      "9 9\n"
     ]
    }
   ],
   "source": [
    "# finding predicted class\n",
    "pred_class = tf.argmax(pred_prob,1)\n",
    "for predicted, label in zip(pred_class[:10],y_test[:10]):\n",
    "    print(predicted.numpy(), label)\n",
    "    \n",
    "# wrong predictions\n",
    "mistake = [(k,i,j) for k,(i,j) in enumerate(zip(pred_class.numpy(),y_test)) if i !=j]"
   ]
  },
  {
   "cell_type": "code",
   "execution_count": 25,
   "metadata": {},
   "outputs": [
    {
     "name": "stdout",
     "output_type": "stream",
     "text": [
      "258 (8, 6, 5)\n"
     ]
    }
   ],
   "source": [
    "print(len(mistake),mistake[0])"
   ]
  },
  {
   "cell_type": "code",
   "execution_count": 26,
   "metadata": {},
   "outputs": [
    {
     "data": {
      "image/png": "[encoded data removed]",
      "text/plain": [
       "<Figure size 576x288 with 10 Axes>"
      ]
     },
     "metadata": {},
     "output_type": "display_data"
    }
   ],
   "source": [
    "#illustrating wrong predictions\n",
    "fig = plt.figure(figsize=(8,4))\n",
    "for i,j in enumerate(mistake[0:10]):\n",
    "    subplot = fig.add_subplot(2,5,i+1)\n",
    "    subplot.set_xticks([])\n",
    "    subplot.set_yticks([])\n",
    "    subplot.set_title(f'L:{j[-1]}, P:{j[-2]}')\n",
    "    subplot.imshow(x_test[j[0]], vmin=0, vmax=1,\n",
    "                  cmap=plt.cm.gray_r, interpolation = 'nearest')"
   ]
  },
  {
   "cell_type": "code",
   "execution_count": 38,
   "metadata": {},
   "outputs": [
    {
     "data": {
      "text/plain": [
       "0.9742"
      ]
     },
     "execution_count": 38,
     "metadata": {},
     "output_type": "execute_result"
    }
   ],
   "source": [
    "# Rechecking accuracy\n",
    "correct_prediction = tf.math.equal(pred_class, y_test)\n",
    "accuracy = tf.reduce_mean(tf.cast(correct_prediction,tf.float32))\n",
    "accuracy.numpy()"
   ]
  },
  {
   "cell_type": "code",
   "execution_count": 40,
   "metadata": {},
   "outputs": [
    {
     "name": "stdout",
     "output_type": "stream",
     "text": [
      "<class 'tensorflow.python.framework.ops.EagerTensor'> (10000,)\n",
      "[0.    0.    0.001 0.    0.    0.163 0.836 0.    0.    0.   ] 6 5\n",
      "[0.    0.    0.805 0.    0.004 0.    0.19  0.    0.    0.   ] 2 4\n",
      "[0.808 0.    0.    0.    0.004 0.006 0.181 0.001 0.    0.   ] 0 6\n",
      "[0.    0.079 0.005 0.02  0.001 0.001 0.    0.461 0.124 0.31 ] 7 9\n",
      "[0.    0.    0.054 0.038 0.    0.    0.    0.9   0.007 0.   ] 7 2\n",
      "[0.    0.001 0.    0.648 0.    0.349 0.001 0.    0.    0.   ] 3 5\n",
      "[0.    0.001 0.04  0.426 0.    0.    0.    0.531 0.001 0.001] 7 3\n",
      "[0.098 0.    0.424 0.011 0.004 0.001 0.05  0.    0.35  0.062] 2 8\n",
      "[0.    0.    0.    0.    0.42  0.    0.    0.002 0.001 0.578] 9 4\n",
      "[0.    0.014 0.886 0.027 0.    0.    0.    0.    0.072 0.   ] 2 8\n",
      "[0.002 0.043 0.042 0.677 0.    0.002 0.012 0.    0.222 0.001] 3 8\n",
      "[0.001 0.    0.393 0.    0.381 0.    0.214 0.    0.006 0.005] 2 4\n",
      "[0.001 0.001 0.437 0.061 0.    0.    0.    0.004 0.493 0.002] 8 2\n",
      "[0.    0.083 0.079 0.06  0.    0.001 0.005 0.003 0.769 0.   ] 8 1\n",
      "[0.    0.    0.    0.478 0.    0.    0.    0.001 0.    0.521] 9 3\n",
      "[0.    0.338 0.128 0.059 0.    0.    0.    0.02  0.368 0.087] 8 2\n",
      "[0.    0.001 0.047 0.902 0.    0.    0.    0.049 0.    0.   ] 3 7\n",
      "[0.    0.    0.    0.    0.994 0.    0.    0.002 0.002 0.002] 4 8\n",
      "[0.    0.    0.    0.    0.116 0.    0.    0.    0.    0.884] 9 4\n",
      "[0.125 0.    0.017 0.001 0.017 0.007 0.752 0.08  0.    0.   ] 6 0\n",
      "[0.    0.    0.    0.    0.    0.077 0.005 0.    0.918 0.   ] 8 5\n",
      "[0.    0.    0.    0.    0.095 0.    0.    0.    0.    0.905] 9 4\n",
      "[0.    0.001 0.001 0.006 0.485 0.    0.    0.009 0.001 0.495] 9 4\n",
      "[0.    0.    0.693 0.003 0.    0.    0.    0.304 0.001 0.   ] 2 7\n",
      "[0.003 0.    0.002 0.001 0.    0.    0.    0.377 0.    0.617] 9 7\n",
      "[0.001 0.001 0.003 0.02  0.043 0.    0.    0.523 0.031 0.377] 7 9\n",
      "[0.    0.464 0.    0.478 0.    0.017 0.001 0.    0.019 0.02 ] 3 1\n",
      "[0.    0.    0.351 0.063 0.    0.    0.    0.581 0.004 0.   ] 7 2\n",
      "[0.    0.    0.61  0.028 0.001 0.    0.    0.311 0.021 0.028] 2 7\n",
      "[0.    0.    0.    0.    0.986 0.009 0.    0.002 0.001 0.002] 4 5\n",
      "[0.    0.019 0.847 0.079 0.    0.001 0.052 0.    0.001 0.   ] 2 1\n",
      "[0.545 0.    0.004 0.095 0.001 0.058 0.279 0.001 0.017 0.   ] 0 6\n",
      "[0.    0.    0.    0.523 0.    0.476 0.    0.    0.    0.   ] 3 5\n",
      "[0.024 0.001 0.018 0.001 0.002 0.915 0.005 0.004 0.013 0.018] 5 6\n",
      "[0.    0.    0.002 0.    0.    0.449 0.038 0.    0.511 0.   ] 8 5\n",
      "[0.    0.149 0.273 0.024 0.025 0.008 0.008 0.196 0.058 0.259] 2 7\n",
      "[0.    0.    0.341 0.    0.011 0.001 0.208 0.    0.438 0.001] 8 6\n",
      "[0.    0.    0.    0.401 0.    0.296 0.    0.    0.014 0.288] 3 9\n",
      "[0.002 0.    0.015 0.    0.013 0.    0.97  0.    0.    0.   ] 6 4\n",
      "[0.    0.    0.011 0.405 0.    0.    0.    0.001 0.583 0.   ] 8 3\n",
      "[0.    0.    0.088 0.106 0.    0.    0.    0.806 0.    0.   ] 7 3\n",
      "[0.    0.65  0.023 0.    0.    0.001 0.316 0.    0.009 0.   ] 1 6\n",
      "[0.    0.    0.015 0.    0.001 0.    0.    0.065 0.02  0.898] 9 7\n",
      "[0.    0.001 0.976 0.02  0.    0.    0.002 0.001 0.    0.   ] 2 7\n",
      "[0.002 0.001 0.021 0.    0.735 0.001 0.105 0.004 0.058 0.075] 4 9\n",
      "[0.    0.006 0.002 0.001 0.352 0.    0.002 0.018 0.    0.617] 9 4\n",
      "[0.002 0.    0.007 0.248 0.    0.742 0.    0.    0.001 0.   ] 5 9\n",
      "[0.    0.843 0.013 0.008 0.    0.001 0.    0.131 0.003 0.001] 1 7\n",
      "[0.    0.003 0.847 0.03  0.003 0.    0.003 0.108 0.005 0.   ] 2 7\n",
      "[0.052 0.    0.014 0.778 0.001 0.095 0.019 0.012 0.026 0.003] 3 8\n",
      "[0.    0.001 0.04  0.    0.01  0.001 0.759 0.    0.188 0.001] 6 8\n",
      "[0.    0.433 0.263 0.037 0.011 0.    0.    0.107 0.111 0.038] 1 7\n",
      "[0.007 0.    0.006 0.003 0.028 0.004 0.    0.109 0.166 0.678] 9 7\n",
      "[0.    0.    0.001 0.001 0.    0.331 0.588 0.    0.08  0.   ] 6 5\n",
      "[0.    0.006 0.004 0.775 0.    0.17  0.023 0.015 0.007 0.   ] 3 5\n",
      "[0.195 0.    0.009 0.014 0.    0.023 0.    0.066 0.024 0.668] 9 7\n",
      "[0.    0.759 0.012 0.191 0.01  0.001 0.    0.01  0.008 0.01 ] 1 7\n",
      "[0.    0.003 0.    0.003 0.002 0.001 0.    0.076 0.008 0.907] 9 7\n",
      "[0.    0.055 0.021 0.117 0.002 0.068 0.735 0.    0.002 0.   ] 6 1\n",
      "[0.    0.    0.    0.01  0.    0.    0.    0.984 0.006 0.   ] 7 8\n",
      "[0.    0.    0.172 0.    0.005 0.    0.823 0.    0.    0.   ] 6 4\n",
      "[0.    0.    0.    0.348 0.    0.063 0.    0.    0.256 0.334] 3 9\n",
      "[0.    0.    0.003 0.07  0.    0.007 0.919 0.    0.    0.   ] 6 2\n",
      "[0.438 0.    0.    0.    0.    0.002 0.56  0.    0.    0.   ] 6 0\n",
      "[0.    0.    0.    0.016 0.    0.    0.    0.97  0.    0.014] 7 3\n",
      "[0.    0.011 0.002 0.506 0.086 0.089 0.002 0.017 0.089 0.198] 3 9\n",
      "[0.    0.004 0.823 0.02  0.146 0.    0.004 0.002 0.    0.   ] 2 4\n",
      "[0.    0.003 0.7   0.253 0.    0.    0.    0.044 0.001 0.   ] 2 7\n",
      "[0.    0.001 0.023 0.005 0.025 0.001 0.    0.095 0.67  0.181] 8 2\n",
      "[0.    0.003 0.198 0.606 0.    0.004 0.049 0.001 0.139 0.   ] 3 8\n",
      "[0.    0.    0.005 0.001 0.612 0.128 0.019 0.003 0.155 0.077] 4 9\n",
      "[0.005 0.    0.004 0.    0.394 0.002 0.592 0.001 0.001 0.001] 6 4\n",
      "[0.005 0.    0.314 0.003 0.114 0.039 0.    0.127 0.054 0.344] 9 7\n",
      "[0.    0.002 0.608 0.003 0.    0.    0.001 0.    0.385 0.   ] 2 8\n",
      "[0.474 0.    0.    0.    0.028 0.    0.008 0.001 0.    0.489] 9 0\n",
      "[0.001 0.    0.01  0.229 0.    0.014 0.    0.033 0.045 0.667] 9 8\n",
      "[0.    0.    0.963 0.002 0.    0.    0.    0.033 0.    0.   ] 2 7\n",
      "[0.001 0.    0.    0.844 0.006 0.136 0.    0.    0.    0.013] 3 5\n",
      "[0.    0.012 0.02  0.007 0.322 0.001 0.007 0.002 0.522 0.107] 8 4\n",
      "[0.    0.    0.41  0.002 0.    0.    0.    0.585 0.003 0.   ] 7 2\n",
      "[0.    0.    0.    0.    0.033 0.    0.    0.    0.    0.966] 9 4\n",
      "[0.001 0.001 0.    0.    0.29  0.    0.    0.142 0.    0.566] 9 7\n",
      "[0.783 0.    0.215 0.    0.    0.    0.    0.    0.001 0.   ] 0 2\n",
      "[0.    0.021 0.058 0.19  0.139 0.001 0.    0.284 0.132 0.174] 7 3\n",
      "[0.672 0.01  0.008 0.    0.191 0.013 0.048 0.05  0.001 0.005] 0 6\n",
      "[0.    0.    0.458 0.02  0.026 0.001 0.001 0.001 0.156 0.337] 2 9\n",
      "[0.    0.    0.    0.    0.201 0.    0.    0.    0.003 0.796] 9 4\n",
      "[0.002 0.707 0.018 0.002 0.    0.076 0.128 0.003 0.063 0.   ] 1 6\n",
      "[0.    0.011 0.959 0.029 0.    0.    0.    0.    0.    0.   ] 2 1\n",
      "[0.329 0.    0.008 0.001 0.    0.232 0.007 0.001 0.42  0.002] 8 0\n",
      "[0.    0.048 0.039 0.013 0.011 0.005 0.879 0.001 0.002 0.001] 6 1\n",
      "[0.517 0.    0.009 0.016 0.019 0.028 0.039 0.002 0.336 0.034] 0 8\n",
      "[0.159 0.    0.146 0.    0.009 0.    0.473 0.    0.004 0.208] 6 9\n",
      "[0.    0.    0.399 0.005 0.    0.    0.    0.13  0.466 0.   ] 8 2\n",
      "[0.001 0.    0.    0.004 0.039 0.107 0.03  0.003 0.759 0.058] 8 5\n",
      "[0.    0.853 0.    0.005 0.004 0.003 0.    0.022 0.008 0.104] 1 9\n",
      "[0.002 0.    0.003 0.    0.564 0.001 0.348 0.075 0.006 0.001] 4 6\n",
      "[0.006 0.    0.066 0.    0.543 0.004 0.235 0.001 0.031 0.113] 4 2\n",
      "[0.001 0.182 0.696 0.017 0.079 0.    0.    0.005 0.017 0.003] 2 7\n",
      "[0.755 0.    0.    0.009 0.    0.22  0.    0.    0.001 0.015] 0 9\n",
      "[0.    0.935 0.058 0.001 0.    0.    0.002 0.    0.004 0.   ] 1 6\n",
      "[0.468 0.    0.003 0.024 0.001 0.096 0.005 0.    0.394 0.009] 0 8\n",
      "[0.    0.001 0.003 0.515 0.    0.    0.    0.477 0.003 0.001] 3 7\n",
      "[0.04  0.    0.783 0.175 0.    0.    0.    0.    0.002 0.   ] 2 3\n",
      "[0.    0.    0.636 0.325 0.    0.    0.    0.039 0.    0.   ] 2 3\n",
      "[0.012 0.    0.    0.001 0.001 0.744 0.    0.235 0.    0.007] 5 9\n",
      "[0.    0.    0.    0.237 0.    0.736 0.    0.    0.025 0.002] 5 3\n",
      "[0.    0.001 0.001 0.001 0.001 0.124 0.258 0.    0.61  0.004] 8 6\n",
      "[0.    0.525 0.    0.003 0.003 0.009 0.001 0.    0.085 0.373] 1 9\n",
      "[0.013 0.03  0.022 0.097 0.008 0.005 0.    0.658 0.006 0.161] 7 9\n",
      "[0.    0.    0.937 0.061 0.    0.001 0.    0.    0.    0.   ] 2 1\n",
      "[0.002 0.026 0.001 0.002 0.557 0.375 0.002 0.005 0.004 0.027] 4 5\n",
      "[0.    0.001 0.    0.111 0.019 0.003 0.    0.003 0.001 0.862] 9 5\n",
      "[0.    0.001 0.002 0.592 0.001 0.003 0.    0.    0.401 0.001] 3 8\n",
      "[0.002 0.    0.326 0.303 0.    0.001 0.    0.    0.362 0.006] 8 2\n",
      "[0.682 0.    0.011 0.001 0.006 0.    0.299 0.    0.    0.   ] 0 6\n",
      "[0.    0.921 0.    0.019 0.002 0.008 0.    0.018 0.017 0.014] 1 9\n",
      "[0.    0.    0.    0.    0.995 0.    0.001 0.    0.    0.004] 4 6\n",
      "[0.    0.    0.975 0.013 0.    0.    0.008 0.    0.005 0.   ] 2 3\n",
      "[0.886 0.001 0.022 0.011 0.    0.069 0.002 0.005 0.002 0.001] 0 5\n",
      "[0.001 0.    0.001 0.    0.001 0.849 0.    0.    0.148 0.   ] 5 8\n",
      "[0.001 0.003 0.009 0.83  0.001 0.052 0.    0.001 0.033 0.071] 3 9\n",
      "[0.    0.    0.    0.002 0.155 0.001 0.    0.014 0.009 0.819] 9 4\n",
      "[0.    0.008 0.835 0.041 0.001 0.    0.008 0.104 0.003 0.   ] 2 7\n",
      "[0.005 0.018 0.064 0.612 0.001 0.027 0.    0.041 0.223 0.009] 3 8\n",
      "[0.    0.011 0.435 0.195 0.    0.    0.    0.357 0.002 0.   ] 2 7\n",
      "[0.    0.    0.001 0.001 0.    0.422 0.    0.    0.577 0.   ] 8 5\n",
      "[0.    0.    0.417 0.    0.017 0.    0.567 0.    0.    0.   ] 6 4\n",
      "[0.004 0.067 0.127 0.022 0.    0.014 0.    0.006 0.758 0.001] 8 2\n",
      "[0.001 0.004 0.009 0.594 0.    0.002 0.    0.209 0.175 0.006] 3 7\n",
      "[0.034 0.    0.262 0.595 0.009 0.003 0.001 0.002 0.041 0.054] 3 2\n",
      "[0.371 0.    0.    0.    0.373 0.    0.233 0.018 0.    0.004] 4 0\n",
      "[0.    0.943 0.001 0.001 0.002 0.    0.    0.05  0.003 0.001] 1 7\n",
      "[0.04  0.002 0.346 0.001 0.    0.508 0.095 0.    0.007 0.   ] 5 6\n",
      "[0.    0.    0.    0.    0.812 0.    0.    0.    0.016 0.172] 4 9\n",
      "[0.015 0.    0.006 0.008 0.    0.152 0.817 0.    0.002 0.   ] 6 5\n",
      "[0.    0.    0.001 0.645 0.    0.348 0.    0.    0.001 0.005] 3 5\n",
      "[0.    0.    0.354 0.646 0.    0.    0.    0.    0.    0.   ] 3 1\n",
      "[0.    0.    0.    0.558 0.    0.001 0.    0.    0.023 0.418] 3 9\n",
      "[0.    0.    0.544 0.    0.04  0.    0.416 0.    0.    0.   ] 2 4\n",
      "[0.    0.    0.    0.15  0.    0.845 0.    0.    0.004 0.001] 5 3\n",
      "[0.    0.074 0.    0.001 0.024 0.    0.    0.441 0.    0.458] 9 7\n",
      "[0.002 0.    0.302 0.143 0.012 0.004 0.003 0.032 0.087 0.414] 9 0\n",
      "[0.065 0.01  0.008 0.557 0.009 0.107 0.006 0.022 0.187 0.03 ] 3 8\n",
      "[0.    0.    0.005 0.904 0.    0.    0.    0.023 0.004 0.064] 3 9\n",
      "[0.    0.    0.007 0.001 0.746 0.001 0.    0.001 0.001 0.244] 4 9\n",
      "[0.    0.    0.753 0.002 0.002 0.    0.    0.    0.178 0.064] 2 8\n",
      "[0.669 0.    0.001 0.002 0.008 0.077 0.009 0.019 0.024 0.191] 0 9\n",
      "[0.    0.    0.018 0.007 0.006 0.    0.075 0.892 0.002 0.001] 7 2\n",
      "[0.001 0.001 0.001 0.001 0.003 0.004 0.    0.321 0.002 0.667] 9 7\n",
      "[0.    0.467 0.    0.001 0.026 0.018 0.    0.482 0.001 0.005] 7 1\n",
      "[0.    0.    0.001 0.001 0.001 0.001 0.    0.808 0.    0.189] 7 9\n",
      "[0.003 0.126 0.032 0.003 0.1   0.046 0.043 0.006 0.6   0.041] 8 2\n",
      "[0.001 0.    0.02  0.    0.    0.    0.    0.865 0.1   0.012] 7 2\n",
      "[0.018 0.    0.    0.002 0.005 0.475 0.    0.167 0.008 0.325] 5 9\n",
      "[0.001 0.001 0.    0.072 0.001 0.226 0.008 0.    0.224 0.467] 9 5\n",
      "[0.    0.    0.002 0.241 0.    0.    0.    0.704 0.052 0.001] 7 3\n",
      "[0.    0.003 0.    0.001 0.433 0.    0.    0.028 0.008 0.527] 9 4\n",
      "[0.    0.    0.    0.613 0.    0.379 0.    0.    0.002 0.005] 3 5\n",
      "[0.    0.003 0.002 0.003 0.636 0.    0.    0.009 0.004 0.342] 4 9\n",
      "[0.    0.    0.    0.    0.825 0.    0.    0.    0.001 0.174] 4 9\n",
      "[0.    0.001 0.449 0.199 0.002 0.    0.001 0.348 0.    0.   ] 2 7\n",
      "[0.369 0.001 0.001 0.019 0.002 0.006 0.591 0.    0.009 0.001] 6 0\n",
      "[0.    0.002 0.045 0.022 0.001 0.    0.    0.894 0.035 0.001] 7 8\n",
      "[0.    0.478 0.    0.027 0.012 0.009 0.    0.011 0.038 0.425] 1 9\n",
      "[0.    0.    0.    0.    0.    0.863 0.129 0.    0.008 0.   ] 5 6\n",
      "[0.    0.    0.    0.    0.661 0.005 0.    0.33  0.001 0.002] 4 7\n",
      "[0.    0.    0.    0.    0.325 0.    0.    0.002 0.    0.672] 9 4\n",
      "[0.004 0.    0.821 0.001 0.103 0.001 0.005 0.    0.    0.063] 2 4\n",
      "[0.    0.    0.    0.001 0.91  0.    0.    0.001 0.089 0.   ] 4 8\n",
      "[0.    0.    0.015 0.105 0.    0.    0.    0.671 0.195 0.014] 7 8\n",
      "[0.    0.    0.    0.    0.544 0.001 0.    0.    0.    0.455] 4 9\n",
      "[0.    0.001 0.008 0.    0.491 0.002 0.495 0.001 0.    0.003] 6 4\n",
      "[0.    0.062 0.    0.004 0.08  0.02  0.    0.068 0.457 0.31 ] 8 9\n",
      "[0.099 0.    0.005 0.884 0.    0.004 0.003 0.    0.004 0.   ] 3 8\n",
      "[0.    0.    0.015 0.    0.719 0.001 0.225 0.    0.013 0.026] 4 9\n",
      "[0.    0.    0.003 0.001 0.01  0.019 0.537 0.    0.418 0.012] 6 8\n",
      "[0.001 0.    0.    0.    0.    0.002 0.003 0.    0.995 0.   ] 8 0\n",
      "[0.    0.752 0.024 0.1   0.    0.    0.    0.075 0.047 0.001] 1 7\n",
      "[0.    0.    0.384 0.583 0.    0.004 0.    0.    0.028 0.   ] 3 2\n",
      "[0.    0.    0.    0.    0.974 0.    0.    0.    0.023 0.002] 4 8\n",
      "[0.    0.128 0.005 0.373 0.006 0.002 0.001 0.1   0.296 0.088] 3 7\n",
      "[0.001 0.015 0.383 0.36  0.    0.    0.001 0.003 0.235 0.002] 2 3\n",
      "[0.    0.    0.603 0.374 0.001 0.    0.011 0.    0.011 0.   ] 2 3\n",
      "[0.001 0.002 0.016 0.    0.001 0.001 0.975 0.    0.003 0.   ] 6 1\n",
      "[0.018 0.288 0.081 0.022 0.002 0.004 0.05  0.    0.529 0.006] 8 1\n",
      "[0.    0.    0.    0.    0.005 0.    0.    0.166 0.    0.828] 9 7\n",
      "[0.002 0.001 0.4   0.447 0.    0.    0.    0.    0.15  0.001] 3 2\n",
      "[0.    0.001 0.    0.    0.    0.705 0.012 0.    0.282 0.   ] 5 1\n",
      "[0.    0.001 0.437 0.215 0.269 0.007 0.003 0.039 0.009 0.019] 2 4\n",
      "[0.    0.001 0.264 0.007 0.002 0.    0.    0.631 0.013 0.082] 7 3\n",
      "[0.    0.    0.048 0.    0.    0.053 0.835 0.    0.063 0.   ] 6 8\n",
      "[0.009 0.    0.008 0.    0.004 0.002 0.    0.127 0.213 0.636] 9 7\n",
      "[0.001 0.    0.    0.    0.205 0.002 0.    0.779 0.    0.012] 7 4\n",
      "[0.444 0.    0.003 0.    0.001 0.505 0.005 0.014 0.001 0.026] 5 7\n",
      "[0.    0.    0.001 0.    0.014 0.    0.    0.471 0.003 0.511] 9 7\n",
      "[0.    0.    0.    0.    0.18  0.    0.    0.    0.    0.819] 9 4\n",
      "[0.    0.    0.    0.786 0.    0.2   0.    0.    0.    0.014] 3 5\n",
      "[0.    0.    0.001 0.001 0.    0.001 0.    0.    0.986 0.011] 8 3\n",
      "[0.    0.    0.    0.726 0.    0.261 0.    0.    0.003 0.009] 3 5\n",
      "[0.    0.    0.001 0.019 0.    0.014 0.    0.    0.75  0.215] 8 3\n",
      "[0.003 0.    0.014 0.319 0.    0.624 0.    0.001 0.009 0.031] 5 3\n",
      "[0.    0.001 0.002 0.152 0.    0.175 0.    0.    0.014 0.656] 9 3\n",
      "[0.    0.001 0.006 0.457 0.    0.037 0.001 0.    0.499 0.   ] 8 3\n",
      "[0.002 0.001 0.004 0.053 0.    0.016 0.    0.001 0.101 0.822] 9 3\n",
      "[0.    0.    0.    0.723 0.    0.01  0.    0.    0.    0.267] 3 9\n",
      "[0.    0.    0.    0.974 0.    0.005 0.    0.    0.    0.022] 3 9\n",
      "[0.    0.    0.638 0.362 0.    0.    0.    0.    0.    0.   ] 2 3\n",
      "[0.469 0.    0.002 0.    0.    0.    0.529 0.    0.    0.   ] 6 0\n",
      "[0.947 0.    0.019 0.    0.006 0.001 0.003 0.001 0.    0.022] 0 9\n",
      "[0.    0.    0.    0.002 0.001 0.    0.    0.165 0.052 0.779] 9 8\n",
      "[0.    0.    0.039 0.    0.    0.    0.961 0.    0.    0.   ] 6 2\n",
      "[0.003 0.538 0.083 0.042 0.024 0.001 0.009 0.281 0.009 0.01 ] 1 7\n",
      "[0.004 0.    0.001 0.119 0.    0.    0.    0.715 0.    0.16 ] 7 0\n",
      "[0.001 0.002 0.004 0.597 0.    0.354 0.04  0.    0.    0.   ] 3 5\n",
      "[0.012 0.003 0.173 0.012 0.251 0.377 0.01  0.004 0.138 0.021] 5 0\n",
      "[0.    0.    0.001 0.195 0.    0.    0.    0.081 0.054 0.67 ] 9 8\n",
      "[0.    0.148 0.009 0.005 0.    0.003 0.814 0.    0.022 0.   ] 6 1\n",
      "[0.133 0.011 0.007 0.559 0.01  0.016 0.252 0.008 0.004 0.001] 3 0\n",
      "[0.    0.267 0.134 0.247 0.001 0.    0.    0.154 0.099 0.097] 1 7\n",
      "[0.006 0.253 0.201 0.065 0.021 0.003 0.196 0.001 0.094 0.16 ] 1 8\n",
      "[0.    0.025 0.032 0.002 0.003 0.009 0.028 0.001 0.899 0.   ] 8 1\n",
      "[0.    0.    0.    0.    0.    0.221 0.033 0.    0.745 0.   ] 8 5\n",
      "[0.    0.006 0.385 0.002 0.    0.    0.    0.    0.607 0.   ] 8 2\n",
      "[0.    0.011 0.129 0.004 0.    0.    0.    0.    0.855 0.001] 8 2\n",
      "[0.023 0.    0.003 0.016 0.001 0.005 0.952 0.    0.    0.   ] 6 0\n",
      "[0.    0.002 0.013 0.    0.022 0.141 0.594 0.    0.224 0.003] 6 8\n",
      "[0.    0.    0.    0.    0.    0.019 0.578 0.    0.403 0.   ] 6 8\n",
      "[0.    0.436 0.001 0.001 0.001 0.    0.003 0.    0.556 0.   ] 8 1\n",
      "[0.    0.    0.    0.    0.407 0.    0.    0.    0.009 0.583] 9 4\n",
      "[0.    0.    0.    0.    0.    0.001 0.919 0.    0.08  0.   ] 6 8\n",
      "[0.    0.    0.    0.    0.    0.436 0.537 0.    0.027 0.   ] 6 5\n",
      "[0.    0.    0.992 0.007 0.    0.    0.    0.001 0.    0.   ] 2 7\n",
      "[0.    0.    0.977 0.001 0.    0.    0.    0.023 0.    0.   ] 2 7\n",
      "[0.    0.    0.771 0.002 0.    0.    0.    0.228 0.    0.   ] 2 7\n",
      "[0.    0.    0.994 0.005 0.    0.    0.    0.001 0.    0.   ] 2 7\n",
      "[0.    0.    0.549 0.01  0.    0.    0.    0.441 0.    0.   ] 2 7\n",
      "[0.    0.292 0.001 0.005 0.012 0.    0.    0.    0.656 0.033] 8 1\n",
      "[0.    0.    0.    0.589 0.    0.411 0.    0.    0.    0.   ] 3 5\n",
      "[0.    0.    0.    0.    0.    0.    0.    0.381 0.    0.618] 9 7\n",
      "[0.    0.    0.    0.    0.997 0.    0.    0.    0.    0.003] 4 9\n",
      "[0.006 0.013 0.01  0.543 0.    0.001 0.    0.022 0.405 0.   ] 3 0\n",
      "[0.004 0.    0.    0.002 0.    0.    0.    0.648 0.    0.346] 7 9\n",
      "[0.003 0.    0.012 0.687 0.001 0.179 0.118 0.    0.    0.   ] 3 6\n",
      "[0.008 0.002 0.009 0.02  0.004 0.744 0.211 0.    0.    0.001] 5 6\n",
      "[0.001 0.    0.    0.    0.    0.009 0.989 0.    0.    0.   ] 6 5\n",
      "[0.026 0.    0.885 0.009 0.055 0.001 0.02  0.002 0.001 0.001] 2 4\n",
      "[0.049 0.    0.002 0.015 0.002 0.241 0.688 0.    0.    0.001] 6 5\n",
      "[0.935 0.    0.027 0.007 0.    0.009 0.    0.    0.011 0.01 ] 0 2\n",
      "[0.987 0.    0.005 0.001 0.    0.001 0.005 0.    0.    0.   ] 0 5\n",
      "[0.714 0.    0.249 0.001 0.    0.003 0.    0.    0.03  0.003] 0 2\n",
      "[0.    0.    0.    0.    0.943 0.    0.    0.001 0.    0.055] 4 9\n",
      "[0.    0.001 0.088 0.212 0.    0.002 0.    0.001 0.696 0.001] 8 2\n",
      "[0.001 0.    0.014 0.626 0.    0.046 0.    0.254 0.047 0.012] 3 2\n",
      "[0.    0.    0.414 0.007 0.    0.001 0.    0.001 0.576 0.001] 8 2\n",
      "[0.    0.    0.    0.007 0.    0.005 0.    0.001 0.947 0.04 ] 8 3\n",
      "[0.    0.    0.614 0.343 0.    0.001 0.    0.007 0.034 0.   ] 2 3\n",
      "[0.001 0.001 0.026 0.141 0.    0.111 0.718 0.    0.001 0.   ] 6 5\n"
     ]
    }
   ],
   "source": [
    "print(type(correct_prediction),correct_prediction.shape)\n",
    "wrong = [i for i,j in enumerate(correct_prediction.numpy()) if j == False]\n",
    "\n",
    "for i in range(len(wrong)):\n",
    "    print(np.round(pred_prob[wrong[i],:],3),np.argmax(pred_prob[wrong[i]]),y_test[wrong[i]])"
   ]
  },
  {
   "cell_type": "markdown",
   "metadata": {},
   "source": [
    "__Softmax classification with data pipeline structure__"
   ]
  },
  {
   "cell_type": "code",
   "execution_count": 43,
   "metadata": {},
   "outputs": [
    {
     "name": "stdout",
     "output_type": "stream",
     "text": [
      "900 <class 'list'> ['abstract_reasoning', 'accentdb', 'aeslc', 'aflw2k3d', 'ag_news_subset', 'ai2_arc', 'ai2_arc_with_ir', 'amazon_us_reviews', 'anli', 'arc']\n"
     ]
    },
    {
     "data": {
      "text/plain": [
       "'4.4.0'"
      ]
     },
     "execution_count": 43,
     "metadata": {},
     "output_type": "execute_result"
    }
   ],
   "source": [
    "# Checking available datasets in tensorflow datasets\n",
    "tfdata = tfds.list_builders()\n",
    "print(len(tfdata), type(tfdata), tfdata[:10])\n",
    "tfds.__version__"
   ]
  },
  {
   "cell_type": "code",
   "execution_count": 47,
   "metadata": {},
   "outputs": [
    {
     "name": "stdout",
     "output_type": "stream",
     "text": [
      "<class 'dict'>\n"
     ]
    }
   ],
   "source": [
    "# Fetching a full dataset and the dataset info \n",
    "mnist,info = tfds.load('mnist', with_info = True)\n",
    "print(type(mnist))"
   ]
  },
  {
   "cell_type": "code",
   "execution_count": 48,
   "metadata": {},
   "outputs": [
    {
     "name": "stdout",
     "output_type": "stream",
     "text": [
      "tfds.core.DatasetInfo(\n",
      "    name='mnist',\n",
      "    full_name='mnist/3.0.1',\n",
      "    description=\"\"\"\n",
      "    The MNIST database of handwritten digits.\n",
      "    \"\"\",\n",
      "    homepage='http://yann.lecun.com/exdb/mnist/',\n",
      "    data_path='/Users/hyesoo/tensorflow_datasets/mnist/3.0.1',\n",
      "    download_size=11.06 MiB,\n",
      "    dataset_size=21.00 MiB,\n",
      "    features=FeaturesDict({\n",
      "        'image': Image(shape=(28, 28, 1), dtype=tf.uint8),\n",
      "        'label': ClassLabel(shape=(), dtype=tf.int64, num_classes=10),\n",
      "    }),\n",
      "    supervised_keys=('image', 'label'),\n",
      "    disable_shuffling=False,\n",
      "    splits={\n",
      "        'test': <SplitInfo num_examples=10000, num_shards=1>,\n",
      "        'train': <SplitInfo num_examples=60000, num_shards=1>,\n",
      "    },\n",
      "    citation=\"\"\"@article{lecun2010mnist,\n",
      "      title={MNIST handwritten digit database},\n",
      "      author={LeCun, Yann and Cortes, Corinna and Burges, CJ},\n",
      "      journal={ATT Labs [Online]. Available: http://yann.lecun.com/exdb/mnist},\n",
      "      volume={2},\n",
      "      year={2010}\n",
      "    }\"\"\",\n",
      ") <class 'tensorflow_datasets.core.dataset_info.DatasetInfo'>\n"
     ]
    }
   ],
   "source": [
    "print(info, type(info))"
   ]
  },
  {
   "cell_type": "code",
   "execution_count": 49,
   "metadata": {},
   "outputs": [
    {
     "name": "stdout",
     "output_type": "stream",
     "text": [
      "<class 'tensorflow.python.data.ops.dataset_ops.PrefetchDataset'> <class 'tensorflow.python.data.ops.dataset_ops.PrefetchDataset'>\n"
     ]
    }
   ],
   "source": [
    "#Dataset unpacking \n",
    "train_ds, test_ds = tfds.load('mnist', split = ['train','test'])\n",
    "train_ds1, test_ds1 = mnist['train'],mnist['test']\n",
    "print(type(test_ds),type(train_ds1))"
   ]
  },
  {
   "cell_type": "code",
   "execution_count": 51,
   "metadata": {},
   "outputs": [],
   "source": [
    "#Starting feed-forward neural net\n",
    "\n",
    "#1. Data preparation\n",
    "mnist_train, mnist_validate, mnist_test = tfds.load('mnist', split=['train[:80%]','train[80%:]','test'], as_supervised=True)"
   ]
  },
  {
   "cell_type": "code",
   "execution_count": 52,
   "metadata": {},
   "outputs": [],
   "source": [
    "#2. Key training parameters\n",
    "BUFFER_SIZE = 64\n",
    "BATCH_SIZE = 32\n",
    "NUM_EPOCHS = 6"
   ]
  },
  {
   "cell_type": "code",
   "execution_count": 53,
   "metadata": {},
   "outputs": [],
   "source": [
    "#3. Scaling dat with function: Don't have to use this approach\n",
    "def scale(image, lavel):\n",
    "    image = tf.cast(image, tf.float32)\n",
    "    image /= 255\n",
    "    return image,label"
   ]
  },
  {
   "cell_type": "code",
   "execution_count": 54,
   "metadata": {},
   "outputs": [],
   "source": [
    "#4. Making data pipeline\n",
    "train_data = mnist_train.map(scale).shuffle(BUFFER_SIZE).batch(BATCH_SIZE).prefetch(1)\n",
    "validation_data = mnist_validate.map(scale).batch(BATCH_SIZE).prefetch(1)\n",
    "test_data = mnist_test.map(scale).batch(BATCH_SIZE)\n",
    "\n",
    "#tensorboard setup\n",
    "logdir = \"logs$$fit$$\"+ datetime.datetime.now().strftime(\"%Y%m%d-%H%M%S\")\n",
    "tensorboard_callback = tf.keras.callbacks.TensorBoard(log_dir = logdir, histogram_freq=1)"
   ]
  },
  {
   "cell_type": "code",
   "execution_count": 56,
   "metadata": {},
   "outputs": [
    {
     "name": "stdout",
     "output_type": "stream",
     "text": [
      "(32, 28, 28, 1) (32,)\n",
      "(32, 28, 28)\n"
     ]
    }
   ],
   "source": [
    "image_batch, label_batch = next(iter(train_data))\n",
    "print(image_batch.shape, label_batch.shape)\n",
    "y = tf.squeeze(image_batch)\n",
    "print(y.shape)"
   ]
  },
  {
   "cell_type": "code",
   "execution_count": 57,
   "metadata": {},
   "outputs": [
    {
     "name": "stdout",
     "output_type": "stream",
     "text": [
      "tf.Tensor(9, shape=(), dtype=uint8)\n"
     ]
    },
    {
     "data": {
      "image/png": "[encoded data removed]",
      "text/plain": [
       "<Figure size 432x288 with 1 Axes>"
      ]
     },
     "metadata": {
      "needs_background": "light"
     },
     "output_type": "display_data"
    }
   ],
   "source": [
    "print(label_batch[0])\n",
    "plt.imshow(y[0])\n",
    "plt.show()"
   ]
  },
  {
   "cell_type": "code",
   "execution_count": 58,
   "metadata": {},
   "outputs": [
    {
     "name": "stdout",
     "output_type": "stream",
     "text": [
      "Epoch 1/6\n",
      "1500/1500 [==============================] - 4s 2ms/step - loss: 0.0177 - accuracy: 0.9976 - val_loss: 1.8973e-08 - val_accuracy: 1.0000\n",
      "Epoch 2/6\n",
      "1500/1500 [==============================] - 3s 2ms/step - loss: 1.2492e-08 - accuracy: 1.0000 - val_loss: 1.8964e-08 - val_accuracy: 1.0000\n",
      "Epoch 3/6\n",
      "1500/1500 [==============================] - 3s 2ms/step - loss: 2.7108e-08 - accuracy: 1.0000 - val_loss: 1.8824e-08 - val_accuracy: 1.0000\n",
      "Epoch 4/6\n",
      "1500/1500 [==============================] - 3s 2ms/step - loss: 1.6311e-08 - accuracy: 1.0000 - val_loss: 1.8745e-08 - val_accuracy: 1.0000\n",
      "Epoch 5/6\n",
      "1500/1500 [==============================] - 3s 2ms/step - loss: 1.2748e-08 - accuracy: 1.0000 - val_loss: 1.8586e-08 - val_accuracy: 1.0000\n",
      "Epoch 6/6\n",
      "1500/1500 [==============================] - 3s 2ms/step - loss: 1.7183e-08 - accuracy: 1.0000 - val_loss: 1.7930e-08 - val_accuracy: 1.0000\n"
     ]
    }
   ],
   "source": [
    "#6. Fitting the model\n",
    "result = model.fit(train_data, validation_data = validation_data, epochs= NUM_EPOCHS,\n",
    "                  callbacks = [tensorboard_callback])"
   ]
  },
  {
   "cell_type": "code",
   "execution_count": 59,
   "metadata": {},
   "outputs": [
    {
     "name": "stdout",
     "output_type": "stream",
     "text": [
      "313/313 [==============================] - 1s 2ms/step - loss: 1.1551e-08 - accuracy: 1.0000\n",
      "Loss:0.00000, Accuracy:1.00000\n"
     ]
    }
   ],
   "source": [
    "#7. Calculating accuracy \n",
    "loss, acc = model.evaluate(test_data)\n",
    "print(f'Loss:{loss:.5f}, Accuracy:{acc:.5f}')"
   ]
  },
  {
   "cell_type": "code",
   "execution_count": 62,
   "metadata": {},
   "outputs": [
    {
     "data": {
      "image/png": "[encoded data removed]",
      "text/plain": [
       "<Figure size 864x288 with 2 Axes>"
      ]
     },
     "metadata": {
      "needs_background": "light"
     },
     "output_type": "display_data"
    }
   ],
   "source": [
    "plt.figure(figsize=(12,4))\n",
    "\n",
    "plt.subplot(1,2,1)\n",
    "plt.plot(result.history['loss'], 'b-', label = 'loss')\n",
    "plt.plot(result.history['val_loss'], 'r--', label = 'val_loss')\n",
    "plt.xlabel('Epoch')\n",
    "plt.legend()\n",
    "\n",
    "plt.subplot(1,2,2)\n",
    "plt.plot(result.history['accuracy'], 'g-', label = 'accuracy')\n",
    "plt.plot(result.history['val_accuracy'], 'k--', label = 'val_accuracy')\n",
    "plt.xlabel('Epoch')\n",
    "plt.legend()\n",
    "\n",
    "plt.show()"
   ]
  },
  {
   "cell_type": "markdown",
   "metadata": {},
   "source": [
    "__1. Functions used for data pipeline__"
   ]
  },
  {
   "cell_type": "code",
   "execution_count": 63,
   "metadata": {},
   "outputs": [
    {
     "data": {
      "text/plain": [
       "[(array([1, 2, 3], dtype=int32), b'A')]"
      ]
     },
     "execution_count": 63,
     "metadata": {},
     "output_type": "execute_result"
    }
   ],
   "source": [
    "dataset = tf.data.Dataset.from_tensors(([1,2,3],'A'))\n",
    "list(dataset.as_numpy_iterator())"
   ]
  },
  {
   "cell_type": "code",
   "execution_count": 64,
   "metadata": {},
   "outputs": [
    {
     "data": {
      "text/plain": [
       "[2, 3, 4, 5, 6]"
      ]
     },
     "execution_count": 64,
     "metadata": {},
     "output_type": "execute_result"
    }
   ],
   "source": [
    "dataset = tf.data.Dataset.range(1,6)\n",
    "dataset = dataset.map(lambda x: x + 1)\n",
    "list(dataset.as_numpy_iterator())"
   ]
  },
  {
   "cell_type": "code",
   "execution_count": 65,
   "metadata": {},
   "outputs": [
    {
     "data": {
      "text/plain": [
       "[0, 1, 2, 3, 4, 5, 6, 7, 8, 9]"
      ]
     },
     "execution_count": 65,
     "metadata": {},
     "output_type": "execute_result"
    }
   ],
   "source": [
    "dataset = tf.data.Dataset.range(10)\n",
    "datast = dataset.take(5)\n",
    "list(dataset. as_numpy_iterator())"
   ]
  },
  {
   "cell_type": "code",
   "execution_count": 66,
   "metadata": {},
   "outputs": [
    {
     "data": {
      "text/plain": [
       "[2, 1, 3, 4, 0, 5, 2, 0, 3, 5, 4, 1]"
      ]
     },
     "execution_count": 66,
     "metadata": {},
     "output_type": "execute_result"
    }
   ],
   "source": [
    "dataset = tf.data.Dataset.range(6)\n",
    "dataset = dataset.shuffle(3, reshuffle_each_iteration = True)\n",
    "dataset = dataset.repeat(2)\n",
    "list(dataset.as_numpy_iterator())"
   ]
  },
  {
   "cell_type": "code",
   "execution_count": 67,
   "metadata": {},
   "outputs": [
    {
     "data": {
      "text/plain": [
       "[array([0, 1, 2, 3]), array([4, 5, 6, 7])]"
      ]
     },
     "execution_count": 67,
     "metadata": {},
     "output_type": "execute_result"
    }
   ],
   "source": [
    "dataset = tf.data.Dataset.range(8)\n",
    "dataset = dataset.batch(4)\n",
    "list(dataset.as_numpy_iterator())"
   ]
  },
  {
   "cell_type": "code",
   "execution_count": 71,
   "metadata": {},
   "outputs": [
    {
     "name": "stdout",
     "output_type": "stream",
     "text": [
      "[[[1]\n",
      "  [2]]\n",
      "\n",
      " [[3]\n",
      "  [4]]] (2, 2, 1)\n"
     ]
    }
   ],
   "source": [
    "x = np.array([[[1],[2]],[[3],[4]]])\n",
    "print(x, x.shape)"
   ]
  },
  {
   "cell_type": "code",
   "execution_count": 72,
   "metadata": {},
   "outputs": [
    {
     "name": "stdout",
     "output_type": "stream",
     "text": [
      "tf.Tensor(\n",
      "[[1 2]\n",
      " [3 4]], shape=(2, 2), dtype=int64) (2, 2)\n"
     ]
    }
   ],
   "source": [
    "x1 = tf.squeeze(x)\n",
    "print(x1, x1.shape)"
   ]
  },
  {
   "cell_type": "code",
   "execution_count": null,
   "metadata": {},
   "outputs": [],
   "source": []
  }
 ],
 "metadata": {
  "kernelspec": {
   "display_name": "Python 3 (ipykernel)",
   "language": "python",
   "name": "python3"
  },
  "language_info": {
   "codemirror_mode": {
    "name": "ipython",
    "version": 3
   },
   "file_extension": ".py",
   "mimetype": "text/x-python",
   "name": "python",
   "nbconvert_exporter": "python",
   "pygments_lexer": "ipython3",
   "version": "3.8.5"
  }
 },
 "nbformat": 4,
 "nbformat_minor": 5
}
