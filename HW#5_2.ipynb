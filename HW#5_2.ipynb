{
 "cells": [
  {
   "cell_type": "markdown",
   "metadata": {},
   "source": [
    "### 2.\tClassify the MNIST data with SVM (linear, poly, and rbs kernels), KNN, DT, and RF. Summarize their accuracy in a table and put confusion matrixes in the MS word file. "
   ]
  },
  {
   "cell_type": "markdown",
   "metadata": {},
   "source": [
    "MNIST datasets are composed of two datasets: mnist_train.csv and mnist_test.csv. Train dataset has 60,000 samples and test data 10,000 samples. The first column is the label and the remaining columns of 784 are features with the maximum value of 256. If accuracy rate is not high, you better to scale all features by dividing them by 256. 60,000 samples are too big so use first 10% of datasets."
   ]
  },
  {
   "cell_type": "code",
   "execution_count": 1,
   "metadata": {},
   "outputs": [],
   "source": [
    "import matplotlib.pyplot as plt\n",
    "import pandas as pd\n",
    "import numpy as np\n",
    "from sklearn.datasets import load_iris\n",
    "from sklearn.model_selection import train_test_split\n",
    "from sklearn import metrics\n",
    "from sklearn import svm\n",
    "from sklearn.neighbors import KNeighborsClassifier\n",
    "from sklearn import tree\n",
    "from sklearn.ensemble import RandomForestClassifier"
   ]
  },
  {
   "cell_type": "code",
   "execution_count": 24,
   "metadata": {},
   "outputs": [],
   "source": [
    "mnist_test = pd.read_csv(r'C:\\Users\\Yunseok Choi\\Google 드라이브\\기술경영대학원\\3학기\\인공지능\\Assignment#5\\mnist_test.csv', header=None)\n",
    "mnist_train = pd.read_csv(r'C:\\Users\\Yunseok Choi\\Google 드라이브\\기술경영대학원\\3학기\\인공지능\\Assignment#5\\mnist_train.csv', header=None)\n",
    "mnist_train = mnist_train.iloc[:6000]\n",
    "mnist_test = mnist_test.iloc[:1000]"
   ]
  },
  {
   "cell_type": "code",
   "execution_count": 25,
   "metadata": {},
   "outputs": [],
   "source": [
    "x_train = mnist_train[mnist_train.columns[1:]]\n",
    "y_train = mnist_train[[0]].values.ravel()\n",
    "x_test = mnist_test[mnist_test.columns[1:]]\n",
    "y_test = mnist_test[[0]].values.ravel()"
   ]
  },
  {
   "cell_type": "markdown",
   "metadata": {},
   "source": [
    "## Before Normalization"
   ]
  },
  {
   "cell_type": "code",
   "execution_count": 26,
   "metadata": {},
   "outputs": [
    {
     "name": "stdout",
     "output_type": "stream",
     "text": [
      "Accuracy rate of svm_linear trainset = 1.0\n",
      "Accuracy rate of svm_linear testset = 0.888\n",
      " \n",
      "Confusion matrix of svm_lienar_train\n",
      "[[592   0   0   0   0   0   0   0   0   0]\n",
      " [  0 671   0   0   0   0   0   0   0   0]\n",
      " [  0   0 581   0   0   0   0   0   0   0]\n",
      " [  0   0   0 608   0   0   0   0   0   0]\n",
      " [  0   0   0   0 623   0   0   0   0   0]\n",
      " [  0   0   0   0   0 514   0   0   0   0]\n",
      " [  0   0   0   0   0   0 608   0   0   0]\n",
      " [  0   0   0   0   0   0   0 651   0   0]\n",
      " [  0   0   0   0   0   0   0   0 551   0]\n",
      " [  0   0   0   0   0   0   0   0   0 601]]\n",
      "Confusion matrix of svm_lienar_test\n",
      "[[ 80   0   0   0   0   2   2   0   0   1]\n",
      " [  0 125   0   0   0   0   1   0   0   0]\n",
      " [  2   2  98   1   1   0   2   3   5   2]\n",
      " [  1   0   2  93   0   6   1   1   2   1]\n",
      " [  0   1   0   0 102   0   1   0   0   6]\n",
      " [  1   1   0   2   0  75   1   0   5   2]\n",
      " [  3   0   3   0   2   0  79   0   0   0]\n",
      " [  0   1   5   1   2   0   0  85   0   5]\n",
      " [  2   0   1   4   2   3   0   2  74   1]\n",
      " [  0   1   0   3   7   0   0   6   0  77]]\n"
     ]
    }
   ],
   "source": [
    "svm_linear = svm.SVC(kernel = 'linear', gamma = 0.01)\n",
    "svm_linear.fit(x_train,y_train)\n",
    "svm_linear_trainscore = metrics.accuracy_score(y_train, svm_linear.predict(x_train))\n",
    "svm_linear_testscore = metrics.accuracy_score(y_test, svm_linear.predict(x_test))\n",
    "confusion_linear_train = metrics.confusion_matrix(y_train, svm_linear.predict(x_train))\n",
    "confusion_linear_test = metrics.confusion_matrix(y_test, svm_linear.predict(x_test))\n",
    "\n",
    "print('Accuracy rate of svm_linear trainset = {}'.format(svm_linear_trainscore))\n",
    "print('Accuracy rate of svm_linear testset = {}'.format(svm_linear_testscore))\n",
    "print(' ')\n",
    "print('Confusion matrix of svm_lienar_train')\n",
    "print(confusion_linear_train)\n",
    "print('Confusion matrix of svm_lienar_test')\n",
    "print(confusion_linear_test)"
   ]
  },
  {
   "cell_type": "code",
   "execution_count": 27,
   "metadata": {},
   "outputs": [
    {
     "name": "stdout",
     "output_type": "stream",
     "text": [
      "Accuracy rate of svm_poly trainset = 1.0\n",
      "Accuracy rate of svm_poly testset = 0.927\n",
      " \n",
      "Confusion matrix of svm_poly_train\n",
      "[[592   0   0   0   0   0   0   0   0   0]\n",
      " [  0 671   0   0   0   0   0   0   0   0]\n",
      " [  0   0 581   0   0   0   0   0   0   0]\n",
      " [  0   0   0 608   0   0   0   0   0   0]\n",
      " [  0   0   0   0 623   0   0   0   0   0]\n",
      " [  0   0   0   0   0 514   0   0   0   0]\n",
      " [  0   0   0   0   0   0 608   0   0   0]\n",
      " [  0   0   0   0   0   0   0 651   0   0]\n",
      " [  0   0   0   0   0   0   0   0 551   0]\n",
      " [  0   0   0   0   0   0   0   0   0 601]]\n",
      "Confusion matrix of svm_poly_test\n",
      "[[ 82   0   0   0   0   2   1   0   0   0]\n",
      " [  0 124   0   0   0   0   1   0   1   0]\n",
      " [  3   3 102   2   0   0   1   3   2   0]\n",
      " [  0   3   1  92   0   7   1   1   1   1]\n",
      " [  0   0   0   0 106   0   1   1   0   2]\n",
      " [  1   0   0   1   1  81   1   0   1   1]\n",
      " [  1   0   0   0   2   1  83   0   0   0]\n",
      " [  0   3   4   0   2   0   0  89   0   1]\n",
      " [  2   0   1   4   2   0   0   0  79   1]\n",
      " [  0   0   0   0   3   0   0   2   0  89]]\n"
     ]
    }
   ],
   "source": [
    "svm_poly = svm.SVC(kernel = 'poly', gamma = 0.01)\n",
    "svm_poly.fit(x_train,y_train)\n",
    "svm_poly_trainscore = metrics.accuracy_score(y_train, svm_poly.predict(x_train))\n",
    "svm_poly_testscore = metrics.accuracy_score(y_test, svm_poly.predict(x_test))\n",
    "confusion_poly_train = metrics.confusion_matrix(y_train, svm_poly.predict(x_train))\n",
    "confusion_poly_test = metrics.confusion_matrix(y_test, svm_poly.predict(x_test))\n",
    "print('Accuracy rate of svm_poly trainset = {}'.format(svm_poly_trainscore))\n",
    "print('Accuracy rate of svm_poly testset = {}'.format(svm_poly_testscore))\n",
    "print(' ')\n",
    "print('Confusion matrix of svm_poly_train')\n",
    "print(confusion_poly_train)\n",
    "print('Confusion matrix of svm_poly_test')\n",
    "print(confusion_poly_test)"
   ]
  },
  {
   "cell_type": "code",
   "execution_count": 28,
   "metadata": {},
   "outputs": [
    {
     "name": "stdout",
     "output_type": "stream",
     "text": [
      "Accuracy rate of svm_rbf trainset = 1.0\n",
      "Accuracy rate of svm_rbf testset = 0.126\n",
      " \n",
      "Confusion matrix of svm_rbf_train\n",
      "[[592   0   0   0   0   0   0   0   0   0]\n",
      " [  0 671   0   0   0   0   0   0   0   0]\n",
      " [  0   0 581   0   0   0   0   0   0   0]\n",
      " [  0   0   0 608   0   0   0   0   0   0]\n",
      " [  0   0   0   0 623   0   0   0   0   0]\n",
      " [  0   0   0   0   0 514   0   0   0   0]\n",
      " [  0   0   0   0   0   0 608   0   0   0]\n",
      " [  0   0   0   0   0   0   0 651   0   0]\n",
      " [  0   0   0   0   0   0   0   0 551   0]\n",
      " [  0   0   0   0   0   0   0   0   0 601]]\n",
      "Confusion matrix of svm_rbf_test\n",
      "[[  0  85   0   0   0   0   0   0   0   0]\n",
      " [  0 126   0   0   0   0   0   0   0   0]\n",
      " [  0 116   0   0   0   0   0   0   0   0]\n",
      " [  0 107   0   0   0   0   0   0   0   0]\n",
      " [  0 110   0   0   0   0   0   0   0   0]\n",
      " [  0  87   0   0   0   0   0   0   0   0]\n",
      " [  0  87   0   0   0   0   0   0   0   0]\n",
      " [  0  99   0   0   0   0   0   0   0   0]\n",
      " [  0  89   0   0   0   0   0   0   0   0]\n",
      " [  0  94   0   0   0   0   0   0   0   0]]\n"
     ]
    }
   ],
   "source": [
    "svm_rbf = svm.SVC(kernel = 'rbf', gamma = 0.01)\n",
    "svm_rbf.fit(x_train,y_train)\n",
    "svm_rbf_trainscore = metrics.accuracy_score(y_train, svm_rbf.predict(x_train))\n",
    "svm_rbf_testscore = metrics.accuracy_score(y_test, svm_rbf.predict(x_test))\n",
    "confusion_rbf_train = metrics.confusion_matrix(y_train, svm_rbf.predict(x_train))\n",
    "confusion_rbf_test = metrics.confusion_matrix(y_test, svm_rbf.predict(x_test))\n",
    "print('Accuracy rate of svm_rbf trainset = {}'.format(svm_rbf_trainscore))\n",
    "print('Accuracy rate of svm_rbf testset = {}'.format(svm_rbf_testscore))\n",
    "print(' ')\n",
    "print('Confusion matrix of svm_rbf_train')\n",
    "print(confusion_rbf_train)\n",
    "print('Confusion matrix of svm_rbf_test')\n",
    "print(confusion_rbf_test)"
   ]
  },
  {
   "cell_type": "code",
   "execution_count": 33,
   "metadata": {},
   "outputs": [
    {
     "name": "stdout",
     "output_type": "stream",
     "text": [
      "Accuracy rate of knn trainset = 0.9713333333333334\n",
      "Accuracy rate of knn testset= 0.913\n",
      "Confusion matrix of knn_train\n",
      "[[590   1   0   1   0   0   0   0   0   0]\n",
      " [  0 668   0   0   1   0   0   1   0   1]\n",
      " [  0  10 563   0   0   0   1   7   0   0]\n",
      " [  2   2   3 589   0   5   2   4   1   0]\n",
      " [  0   9   0   0 602   0   1   0   0  11]\n",
      " [  1   2   1   4   3 496   4   0   1   2]\n",
      " [  3   3   0   0   0   1 601   0   0   0]\n",
      " [  1  10   0   0   0   0   0 634   0   6]\n",
      " [  3  10   4   6   4   5   2   2 511   4]\n",
      " [  7   3   1   4   5   0   0   7   0 574]]\n",
      "Confusion matrix of knn_test\n",
      "[[ 85   0   0   0   0   0   0   0   0   0]\n",
      " [  0 126   0   0   0   0   0   0   0   0]\n",
      " [  3   5  97   0   1   0   2   6   2   0]\n",
      " [  0   2   0  95   0   2   2   2   2   2]\n",
      " [  0   2   0   0  99   0   1   1   0   7]\n",
      " [  0   1   0   2   1  81   0   0   1   1]\n",
      " [  2   0   0   0   1   0  84   0   0   0]\n",
      " [  0   5   0   0   1   1   0  91   0   1]\n",
      " [  4   2   3   4   1   2   1   0  68   4]\n",
      " [  0   0   0   1   4   0   0   2   0  87]]\n"
     ]
    }
   ],
   "source": [
    "knn = KNeighborsClassifier(n_neighbors = 3).fit(x_train,y_train)\n",
    "knn_score_train = metrics.accuracy_score(y_train, knn.predict(x_train))\n",
    "knn_score_test = metrics.accuracy_score(y_test, knn.predict(x_test))\n",
    "print('Accuracy rate of knn trainset = {}'.format(knn_score_train))\n",
    "print('Accuracy rate of knn testset= {}'.format(knn_score_test))\n",
    "\n",
    "confusion_knn_train = metrics.confusion_matrix(y_train, knn.predict(x_train))\n",
    "confusion_knn_test = metrics.confusion_matrix(y_test, knn.predict(x_test))\n",
    "print('Confusion matrix of knn_train')\n",
    "print(confusion_knn_train)\n",
    "print('Confusion matrix of knn_test')\n",
    "print(confusion_knn_test)"
   ]
  },
  {
   "cell_type": "code",
   "execution_count": 14,
   "metadata": {},
   "outputs": [
    {
     "name": "stdout",
     "output_type": "stream",
     "text": [
      "Accuracy rate of DT trainset= 1.0\n",
      "Accuracy rate of DT testset= 0.759\n",
      " \n",
      "Confusion matrix of DT_train\n",
      "[[592   0   0   0   0   0   0   0   0   0]\n",
      " [  0 671   0   0   0   0   0   0   0   0]\n",
      " [  0   0 581   0   0   0   0   0   0   0]\n",
      " [  0   0   0 608   0   0   0   0   0   0]\n",
      " [  0   0   0   0 623   0   0   0   0   0]\n",
      " [  0   0   0   0   0 514   0   0   0   0]\n",
      " [  0   0   0   0   0   0 608   0   0   0]\n",
      " [  0   0   0   0   0   0   0 651   0   0]\n",
      " [  0   0   0   0   0   0   0   0 551   0]\n",
      " [  0   0   0   0   0   0   0   0   0 601]]\n",
      "Confusion matrix of DT_test\n",
      "[[ 75   1   0   1   2   3   1   2   0   0]\n",
      " [  0 113   2   5   0   1   0   2   3   0]\n",
      " [  5   5  85   4   1   2   4   2   8   0]\n",
      " [  1   3   1  67   1  13   4   6   6   5]\n",
      " [  1   1   6   1  84   3   1   5   4   4]\n",
      " [  2   1   1   7   4  53   3   7   4   5]\n",
      " [  4   0   1   1   0   4  70   2   3   2]\n",
      " [  1   2   3   2   1   2   1  78   0   9]\n",
      " [  2   0   7   1   4   4   0   2  65   4]\n",
      " [  0   0   2   1   3   4   2   8   5  69]]\n",
      " \n"
     ]
    }
   ],
   "source": [
    "DT = tree.DecisionTreeClassifier().fit(x_train, y_train)\n",
    "DT_score_train = metrics.accuracy_score(y_train, DT.predict(x_train))\n",
    "DT_score_test = metrics.accuracy_score(y_test, DT.predict(x_test))\n",
    "print('Accuracy rate of DT trainset= {}'.format(DT_score_train))\n",
    "print('Accuracy rate of DT testset= {}'.format(DT_score_test))\n",
    "print(' ')\n",
    "\n",
    "DT_confusion_train = metrics.confusion_matrix(y_train, DT.predict(x_train))\n",
    "DT_confusion_test = metrics.confusion_matrix(y_test, DT.predict(x_test))\n",
    "print('Confusion matrix of DT_train')\n",
    "print(DT_confusion_train)\n",
    "print('Confusion matrix of DT_test')\n",
    "print(DT_confusion_test)\n",
    "print(' ')"
   ]
  },
  {
   "cell_type": "code",
   "execution_count": 15,
   "metadata": {
    "scrolled": false
   },
   "outputs": [
    {
     "name": "stdout",
     "output_type": "stream",
     "text": [
      "Accuracy rate of RFC trainset= 1.0\n",
      "Accuracy rate of RFC testset= 0.93\n",
      " \n",
      "Confusion matrix of RFC_train\n",
      "[[592   0   0   0   0   0   0   0   0   0]\n",
      " [  0 671   0   0   0   0   0   0   0   0]\n",
      " [  0   0 581   0   0   0   0   0   0   0]\n",
      " [  0   0   0 608   0   0   0   0   0   0]\n",
      " [  0   0   0   0 623   0   0   0   0   0]\n",
      " [  0   0   0   0   0 514   0   0   0   0]\n",
      " [  0   0   0   0   0   0 608   0   0   0]\n",
      " [  0   0   0   0   0   0   0 651   0   0]\n",
      " [  0   0   0   0   0   0   0   0 551   0]\n",
      " [  0   0   0   0   0   0   0   0   0 601]]\n",
      "Confusion matrix of RFC_test\n",
      "[[ 84   0   0   0   0   0   1   0   0   0]\n",
      " [  0 125   0   1   0   0   0   0   0   0]\n",
      " [  0   0 108   1   0   0   1   4   2   0]\n",
      " [  0   0   1  94   0   6   1   3   0   2]\n",
      " [  0   0   0   0 100   1   3   0   1   5]\n",
      " [  1   0   0   2   1  82   0   0   1   0]\n",
      " [  3   0   0   0   1   1  82   0   0   0]\n",
      " [  0   1   4   0   1   0   0  93   0   0]\n",
      " [  0   0   4   2   2   1   2   0  75   3]\n",
      " [  0   1   0   1   2   0   0   1   2  87]]\n",
      " \n"
     ]
    }
   ],
   "source": [
    "RFC = RandomForestClassifier().fit(x_train, y_train)\n",
    "RFC_score_train = metrics.accuracy_score(y_train, RFC.predict(x_train))\n",
    "RFC_score_test = metrics.accuracy_score(y_test, RFC.predict(x_test))\n",
    "print('Accuracy rate of RFC trainset= {}'.format(RFC_score_train))\n",
    "print('Accuracy rate of RFC testset= {}'.format(RFC_score_test))\n",
    "print(' ')\n",
    "RFC_confusion_train = metrics.confusion_matrix(y_train, RFC.predict(x_train))\n",
    "RFC_confusion_test = metrics.confusion_matrix(y_test, RFC.predict(x_test))\n",
    "print('Confusion matrix of RFC_train')\n",
    "print(RFC_confusion_train)\n",
    "print('Confusion matrix of RFC_test')\n",
    "print(RFC_confusion_test)\n",
    "print(' ')"
   ]
  },
  {
   "cell_type": "markdown",
   "metadata": {},
   "source": [
    "## After Normalization"
   ]
  },
  {
   "cell_type": "code",
   "execution_count": 34,
   "metadata": {},
   "outputs": [],
   "source": [
    "x_train = mnist_train[mnist_train.columns[1:]].applymap(lambda x: x/265)\n",
    "y_train = mnist_train[[0]].values.ravel()\n",
    "x_test = mnist_test[mnist_test.columns[1:]].applymap(lambda x: x/265)\n",
    "y_test = mnist_test[[0]].values.ravel()"
   ]
  },
  {
   "cell_type": "code",
   "execution_count": 20,
   "metadata": {},
   "outputs": [
    {
     "name": "stdout",
     "output_type": "stream",
     "text": [
      "Accuracy rate of svm_linear trainset = 0.9991666666666666\n",
      "Accuracy rate of svm_linear testset = 0.897\n",
      " \n",
      "Confusion matrix of svm_lienar_train\n",
      "[[592   0   0   0   0   0   0   0   0   0]\n",
      " [  0 671   0   0   0   0   0   0   0   0]\n",
      " [  0   0 581   0   0   0   0   0   0   0]\n",
      " [  0   0   0 608   0   0   0   0   0   0]\n",
      " [  0   0   0   0 622   0   0   0   0   1]\n",
      " [  0   0   0   0   0 514   0   0   0   0]\n",
      " [  0   0   0   0   0   0 608   0   0   0]\n",
      " [  0   1   1   0   0   0   0 649   0   0]\n",
      " [  0   0   0   0   0   0   0   0 551   0]\n",
      " [  0   0   0   0   0   0   0   2   0 599]]\n",
      "Confusion matrix of svm_lienar_test\n",
      "[[ 80   0   0   0   0   2   2   0   0   1]\n",
      " [  0 125   0   0   0   0   1   0   0   0]\n",
      " [  2   2  98   1   1   0   2   3   5   2]\n",
      " [  1   0   2  94   0   5   1   1   2   1]\n",
      " [  0   1   0   0 103   0   1   0   0   5]\n",
      " [  1   1   0   2   0  75   1   0   5   2]\n",
      " [  3   0   3   0   2   0  79   0   0   0]\n",
      " [  0   1   4   1   2   0   0  88   0   3]\n",
      " [  2   0   1   4   2   3   0   2  74   1]\n",
      " [  0   1   0   2   6   0   0   4   0  81]]\n"
     ]
    }
   ],
   "source": [
    "svm_linear = svm.SVC(kernel = 'linear', gamma = 0.01)\n",
    "svm_linear.fit(x_train,y_train)\n",
    "svm_linear_trainscore = metrics.accuracy_score(y_train, svm_linear.predict(x_train))\n",
    "svm_linear_testscore = metrics.accuracy_score(y_test, svm_linear.predict(x_test))\n",
    "confusion_linear_train = metrics.confusion_matrix(y_train, svm_linear.predict(x_train))\n",
    "confusion_linear_test = metrics.confusion_matrix(y_test, svm_linear.predict(x_test))\n",
    "\n",
    "print('Accuracy rate of svm_linear trainset = {}'.format(svm_linear_trainscore))\n",
    "print('Accuracy rate of svm_linear testset = {}'.format(svm_linear_testscore))\n",
    "print(' ')\n",
    "print('Confusion matrix of svm_lienar_train')\n",
    "print(confusion_linear_train)\n",
    "print('Confusion matrix of svm_lienar_test')\n",
    "print(confusion_linear_test)"
   ]
  },
  {
   "cell_type": "code",
   "execution_count": 37,
   "metadata": {},
   "outputs": [
    {
     "name": "stdout",
     "output_type": "stream",
     "text": [
      "Accuracy rate of svm_poly trainset = 0.959\n",
      "Accuracy rate of svm_poly testset = 0.904\n",
      " \n",
      "Confusion matrix of svm_poly_train\n",
      "[[572   4   0   2   1   9   2   1   1   0]\n",
      " [  0 664   2   1   1   0   0   1   0   2]\n",
      " [  1  22 540   0   8   1   0   4   4   1]\n",
      " [  0  16   0 571   2  11   0   6   1   1]\n",
      " [  0   9   0   0 610   0   0   0   0   4]\n",
      " [  0  10   1   1   0 499   2   0   1   0]\n",
      " [  1  13   0   0   0   3 590   0   1   0]\n",
      " [  0  18   1   0   6   0   0 621   0   5]\n",
      " [  0  14   0   2   4   5   2   1 522   1]\n",
      " [  1   8   0   4  12   2   0   7   2 565]]\n",
      "Confusion matrix of svm_poly_test\n",
      "[[ 80   0   0   0   1   3   1   0   0   0]\n",
      " [  0 124   0   0   0   0   1   0   1   0]\n",
      " [  1   9  96   1   0   0   1   4   3   1]\n",
      " [  0   3   0  92   0   8   1   2   0   1]\n",
      " [  0   4   1   0 101   0   0   0   0   4]\n",
      " [  1   1   0   1   1  80   1   0   1   1]\n",
      " [  2   1   0   0   1   0  83   0   0   0]\n",
      " [  0   4   2   1   2   0   0  89   0   1]\n",
      " [  1   2   1   2   2   2   0   1  77   1]\n",
      " [  0   1   0   0   6   1   0   1   3  82]]\n"
     ]
    }
   ],
   "source": [
    "svm_poly = svm.SVC(kernel = 'poly', gamma = 0.01)\n",
    "svm_poly.fit(x_train,y_train)\n",
    "predict_train = svm_poly.predict(x_train)\n",
    "predict_test = svm_poly.predict(x_test)\n",
    "svm_poly_trainscore = metrics.accuracy_score(y_train, predict_train)\n",
    "svm_poly_testscore = metrics.accuracy_score(y_test, predict_test)\n",
    "confusion_poly_train = metrics.confusion_matrix(y_train, predict_train)\n",
    "confusion_poly_test = metrics.confusion_matrix(y_test, predict_test)\n",
    "print('Accuracy rate of svm_poly trainset = {}'.format(svm_poly_trainscore))\n",
    "print('Accuracy rate of svm_poly testset = {}'.format(svm_poly_testscore))\n",
    "print(' ')\n",
    "print('Confusion matrix of svm_poly_train')\n",
    "print(confusion_poly_train)\n",
    "print('Confusion matrix of svm_poly_test')\n",
    "print(confusion_poly_test)"
   ]
  },
  {
   "cell_type": "code",
   "execution_count": 16,
   "metadata": {},
   "outputs": [
    {
     "name": "stdout",
     "output_type": "stream",
     "text": [
      "Accuracy rate of svm_rbf trainset = 0.9775\n",
      "Accuracy rate of svm_rbf testset = 0.928\n",
      " \n",
      "Confusion matrix of svm_rbf_train\n",
      "[[589   0   0   0   2   0   0   0   1   0]\n",
      " [  0 664   3   2   1   0   0   0   0   1]\n",
      " [  1   1 565   1   6   1   0   2   4   0]\n",
      " [  1   3   1 588   1   5   1   5   2   1]\n",
      " [  0   1   0   0 613   0   1   0   0   8]\n",
      " [  0   2   2   3   1 500   5   0   0   1]\n",
      " [  2   1   0   0   0   3 601   0   1   0]\n",
      " [  0   3   3   0   5   0   0 633   0   7]\n",
      " [  0   2   1   1   1   3   4   1 537   1]\n",
      " [  3   3   0   4   5   1   0   8   2 575]]\n",
      "Confusion matrix of svm_rbf_test\n",
      "[[ 83   0   0   0   0   1   1   0   0   0]\n",
      " [  0 124   1   0   0   0   0   0   1   0]\n",
      " [  1   0 104   1   1   0   1   3   4   1]\n",
      " [  0   0   0  94   0   8   1   1   2   1]\n",
      " [  0   0   1   0 103   0   0   1   0   5]\n",
      " [  1   0   0   3   0  80   1   0   1   1]\n",
      " [  3   0   1   0   1   0  82   0   0   0]\n",
      " [  0   2   3   0   1   0   0  93   0   0]\n",
      " [  2   0   1   3   2   0   0   1  80   0]\n",
      " [  0   0   0   1   2   0   0   3   3  85]]\n"
     ]
    }
   ],
   "source": [
    "svm_rbf = svm.SVC(kernel = 'rbf', gamma = 0.01)\n",
    "svm_rbf.fit(x_train,y_train)\n",
    "svm_rbf_trainscore = metrics.accuracy_score(y_train, svm_rbf.predict(x_train))\n",
    "svm_rbf_testscore = metrics.accuracy_score(y_test, svm_rbf.predict(x_test))\n",
    "confusion_rbf_train = metrics.confusion_matrix(y_train, svm_rbf.predict(x_train))\n",
    "confusion_rbf_test = metrics.confusion_matrix(y_test, svm_rbf.predict(x_test))\n",
    "print('Accuracy rate of svm_rbf trainset = {}'.format(svm_rbf_trainscore))\n",
    "print('Accuracy rate of svm_rbf testset = {}'.format(svm_rbf_testscore))\n",
    "print(' ')\n",
    "print('Confusion matrix of svm_rbf_train')\n",
    "print(confusion_rbf_train)\n",
    "print('Confusion matrix of svm_rbf_test')\n",
    "print(confusion_rbf_test)"
   ]
  },
  {
   "cell_type": "code",
   "execution_count": 35,
   "metadata": {},
   "outputs": [
    {
     "name": "stdout",
     "output_type": "stream",
     "text": [
      "Accuracy rate of knn trainset = 0.9713333333333334\n",
      "Accuracy rate of knn testset= 0.913\n",
      "Confusion matrix of knn_train\n",
      "[[590   1   0   1   0   0   0   0   0   0]\n",
      " [  0 668   0   0   1   0   0   1   0   1]\n",
      " [  0  10 563   0   0   0   1   7   0   0]\n",
      " [  2   2   3 589   0   5   2   4   1   0]\n",
      " [  0   9   0   0 602   0   1   0   0  11]\n",
      " [  1   2   1   4   3 496   4   0   1   2]\n",
      " [  3   3   0   0   0   1 601   0   0   0]\n",
      " [  1  10   0   0   0   0   0 634   0   6]\n",
      " [  3  10   4   6   4   5   2   2 511   4]\n",
      " [  7   3   1   4   5   0   0   7   0 574]]\n",
      "Confusion matrix of knn_test\n",
      "[[ 85   0   0   0   0   0   0   0   0   0]\n",
      " [  0 126   0   0   0   0   0   0   0   0]\n",
      " [  3   5  97   0   1   0   2   6   2   0]\n",
      " [  0   2   0  95   0   2   2   2   2   2]\n",
      " [  0   2   0   0  99   0   1   1   0   7]\n",
      " [  0   1   0   2   1  81   0   0   1   1]\n",
      " [  2   0   0   0   1   0  84   0   0   0]\n",
      " [  0   5   0   0   1   1   0  91   0   1]\n",
      " [  4   2   3   4   1   2   1   0  68   4]\n",
      " [  0   0   0   1   4   0   0   2   0  87]]\n"
     ]
    }
   ],
   "source": [
    "knn = KNeighborsClassifier(n_neighbors = 3).fit(x_train,y_train)\n",
    "knn_score_train = metrics.accuracy_score(y_train, knn.predict(x_train))\n",
    "knn_score_test = metrics.accuracy_score(y_test, knn.predict(x_test))\n",
    "print('Accuracy rate of knn trainset = {}'.format(knn_score_train))\n",
    "print('Accuracy rate of knn testset= {}'.format(knn_score_test))\n",
    "\n",
    "confusion_knn_train = metrics.confusion_matrix(y_train, knn.predict(x_train))\n",
    "confusion_knn_test = metrics.confusion_matrix(y_test, knn.predict(x_test))\n",
    "print('Confusion matrix of knn_train')\n",
    "print(confusion_knn_train)\n",
    "print('Confusion matrix of knn_test')\n",
    "print(confusion_knn_test)"
   ]
  },
  {
   "cell_type": "code",
   "execution_count": 36,
   "metadata": {},
   "outputs": [
    {
     "name": "stdout",
     "output_type": "stream",
     "text": [
      "Accuracy rate of DT trainset= 1.0\n",
      "Accuracy rate of DT testset= 0.766\n",
      " \n",
      "Confusion matrix of DT_train\n",
      "[[592   0   0   0   0   0   0   0   0   0]\n",
      " [  0 671   0   0   0   0   0   0   0   0]\n",
      " [  0   0 581   0   0   0   0   0   0   0]\n",
      " [  0   0   0 608   0   0   0   0   0   0]\n",
      " [  0   0   0   0 623   0   0   0   0   0]\n",
      " [  0   0   0   0   0 514   0   0   0   0]\n",
      " [  0   0   0   0   0   0 608   0   0   0]\n",
      " [  0   0   0   0   0   0   0 651   0   0]\n",
      " [  0   0   0   0   0   0   0   0 551   0]\n",
      " [  0   0   0   0   0   0   0   0   0 601]]\n",
      "Confusion matrix of DT_test\n",
      "[[ 74   0   1   2   1   1   2   1   1   2]\n",
      " [  0 113   0   5   3   0   2   1   2   0]\n",
      " [  4   3  82   3   1   3   3   7   7   3]\n",
      " [  3   5   3  67   1   9   5   5   5   4]\n",
      " [  1   2   1   1  89   5   3   2   2   4]\n",
      " [  1   0   4   5   1  62   3   4   4   3]\n",
      " [  4   0   2   0   4   4  68   1   4   0]\n",
      " [  1   1   1   3   1   2   0  78   1  11]\n",
      " [  1   2   5   5   4   4   2   1  63   2]\n",
      " [  1   0   1   2   4   1   1   9   5  70]]\n",
      " \n"
     ]
    }
   ],
   "source": [
    "DT = tree.DecisionTreeClassifier().fit(x_train, y_train)\n",
    "DT_score_train = metrics.accuracy_score(y_train, DT.predict(x_train))\n",
    "DT_score_test = metrics.accuracy_score(y_test, DT.predict(x_test))\n",
    "print('Accuracy rate of DT trainset= {}'.format(DT_score_train))\n",
    "print('Accuracy rate of DT testset= {}'.format(DT_score_test))\n",
    "print(' ')\n",
    "\n",
    "DT_confusion_train = metrics.confusion_matrix(y_train, DT.predict(x_train))\n",
    "DT_confusion_test = metrics.confusion_matrix(y_test, DT.predict(x_test))\n",
    "print('Confusion matrix of DT_train')\n",
    "print(DT_confusion_train)\n",
    "print('Confusion matrix of DT_test')\n",
    "print(DT_confusion_test)\n",
    "print(' ')"
   ]
  },
  {
   "cell_type": "code",
   "execution_count": 38,
   "metadata": {
    "scrolled": false
   },
   "outputs": [
    {
     "name": "stdout",
     "output_type": "stream",
     "text": [
      "Accuracy rate of RFC trainset= 1.0\n",
      "Accuracy rate of RFC testset= 0.927\n",
      " \n",
      "Confusion matrix of RFC_train\n",
      "[[592   0   0   0   0   0   0   0   0   0]\n",
      " [  0 671   0   0   0   0   0   0   0   0]\n",
      " [  0   0 581   0   0   0   0   0   0   0]\n",
      " [  0   0   0 608   0   0   0   0   0   0]\n",
      " [  0   0   0   0 623   0   0   0   0   0]\n",
      " [  0   0   0   0   0 514   0   0   0   0]\n",
      " [  0   0   0   0   0   0 608   0   0   0]\n",
      " [  0   0   0   0   0   0   0 651   0   0]\n",
      " [  0   0   0   0   0   0   0   0 551   0]\n",
      " [  0   0   0   0   0   0   0   0   0 601]]\n",
      "Confusion matrix of RFC_test\n",
      "[[ 84   0   0   0   0   0   1   0   0   0]\n",
      " [  0 124   0   1   0   0   0   0   1   0]\n",
      " [  0   0 105   2   1   0   1   3   4   0]\n",
      " [  0   0   0  96   0   6   1   2   0   2]\n",
      " [  1   0   1   1 100   0   1   1   0   5]\n",
      " [  1   0   0   1   1  82   0   0   1   1]\n",
      " [  3   0   0   0   1   1  82   0   0   0]\n",
      " [  0   0   4   0   2   0   0  90   0   3]\n",
      " [  0   0   3   2   2   2   1   0  75   4]\n",
      " [  0   1   0   1   0   0   0   1   2  89]]\n",
      " \n"
     ]
    }
   ],
   "source": [
    "RFC = RandomForestClassifier().fit(x_train, y_train)\n",
    "RFC_score_train = metrics.accuracy_score(y_train, RFC.predict(x_train))\n",
    "RFC_score_test = metrics.accuracy_score(y_test, RFC.predict(x_test))\n",
    "print('Accuracy rate of RFC trainset= {}'.format(RFC_score_train))\n",
    "print('Accuracy rate of RFC testset= {}'.format(RFC_score_test))\n",
    "print(' ')\n",
    "RFC_confusion_train = metrics.confusion_matrix(y_train, RFC.predict(x_train))\n",
    "RFC_confusion_test = metrics.confusion_matrix(y_test, RFC.predict(x_test))\n",
    "print('Confusion matrix of RFC_train')\n",
    "print(RFC_confusion_train)\n",
    "print('Confusion matrix of RFC_test')\n",
    "print(RFC_confusion_test)\n",
    "print(' ')"
   ]
  }
 ],
 "metadata": {
  "kernelspec": {
   "display_name": "Python 3",
   "language": "python",
   "name": "python3"
  },
  "language_info": {
   "codemirror_mode": {
    "name": "ipython",
    "version": 3
   },
   "file_extension": ".py",
   "mimetype": "text/x-python",
   "name": "python",
   "nbconvert_exporter": "python",
   "pygments_lexer": "ipython3",
   "version": "3.8.5"
  }
 },
 "nbformat": 4,
 "nbformat_minor": 4
}
