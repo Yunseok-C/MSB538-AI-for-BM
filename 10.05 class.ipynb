{
 "cells": [
  {
   "cell_type": "markdown",
   "metadata": {},
   "source": [
    "# Support Vector Machine and Supervised Learning Models"
   ]
  },
  {
   "cell_type": "markdown",
   "metadata": {},
   "source": [
    "1. Dividing dataset for training and testing\n",
    "- train_test_split(arrays, options).\n",
    "- Options\n",
    "    - arrays for data and labels\n",
    "    - test_size : default value is 0.25\n",
    "    - train_size : the remaining\n",
    "    - random_state: can set a seed number\n",
    "    - shuffle: default is true\n",
    "    - stratify: default is none, meaning that the shares of groups are not changed"
   ]
  },
  {
   "cell_type": "code",
   "execution_count": 1,
   "metadata": {},
   "outputs": [],
   "source": [
    "# Importing tools\n",
    "import matplotlib.pyplot as plt\n",
    "import pandas as pd\n",
    "import numpy as np\n",
    "from sklearn import svm, metrics\n",
    "from sklearn.model_selection import train_test_split\n",
    "import seaborn as sns"
   ]
  },
  {
   "cell_type": "code",
   "execution_count": 2,
   "metadata": {},
   "outputs": [
    {
     "name": "stdout",
     "output_type": "stream",
     "text": [
      "(100, 2) (100,)\n",
      "(75, 2) (25, 2) (75,) (25,)\n"
     ]
    }
   ],
   "source": [
    "# Getting familiar with train_test_split function\n",
    "# Create x dataset (100 by 2) containing elements from 0 to 199\n",
    "# Create y dataset (100 by 1) containing elements from 0 to 99\n",
    "x,y = np.arange(200).reshape((100,2)), np.arange(100) # x : 100행 2열 , y: 100행 1열\n",
    "print(x.shape, y.shape)\n",
    "x_train, x_test, y_train, y_test = train_test_split(x,y, random_state = 1011)\n",
    "print(x_train.shape, x_test.shape, y_train.shape, y_test.shape)"
   ]
  },
  {
   "cell_type": "code",
   "execution_count": 3,
   "metadata": {},
   "outputs": [
    {
     "name": "stdout",
     "output_type": "stream",
     "text": [
      "[[ 0  1]\n",
      " [ 2  3]\n",
      " [ 4  5]\n",
      " [ 6  7]\n",
      " [ 8  9]\n",
      " [10 11]\n",
      " [12 13]] [0 1 2 3 4 5 6]\n",
      "[[146 147]\n",
      " [124 125]\n",
      " [188 189]\n",
      " [ 44  45]\n",
      " [ 34  35]\n",
      " [194 195]\n",
      " [142 143]] [73 62 94 22 17 97 71]\n"
     ]
    }
   ],
   "source": [
    "print(x[0:7,:],y[0:7])\n",
    "print(x_train[0:7,:],y_train[0:7])"
   ]
  },
  {
   "cell_type": "markdown",
   "metadata": {},
   "source": [
    "2. SVM with scikit-learn"
   ]
  },
  {
   "cell_type": "code",
   "execution_count": 60,
   "metadata": {},
   "outputs": [
    {
     "name": "stdout",
     "output_type": "stream",
     "text": [
      "   sepal.length  sepal.width  petal.length  petal.width variety\n",
      "0           5.1          3.5           1.4          0.2  Setosa\n",
      "1           4.9          3.0           1.4          0.2  Setosa\n",
      "2           4.7          3.2           1.3          0.2  Setosa\n",
      "3           4.6          3.1           1.5          0.2  Setosa\n",
      "4           5.0          3.6           1.4          0.2  Setosa\n"
     ]
    }
   ],
   "source": [
    "# reading iris dataset\n",
    "iris_data = pd.read_csv('/Users/Yunseok Choi/iris.csv')\n",
    "print(iris_data.head())"
   ]
  },
  {
   "cell_type": "code",
   "execution_count": 61,
   "metadata": {},
   "outputs": [],
   "source": [
    "# Seperating features and lable\n",
    "x_iris = iris_data[['sepal.length','sepal.width','petal.length','petal.width']]\n",
    "y_iris = iris_data['variety']"
   ]
  },
  {
   "cell_type": "code",
   "execution_count": 62,
   "metadata": {},
   "outputs": [
    {
     "name": "stdout",
     "output_type": "stream",
     "text": [
      "     sepal.length  sepal.width  petal.length  petal.width\n",
      "27            5.2          3.5           1.5          0.2\n",
      "76            6.8          2.8           4.8          1.4\n",
      "124           6.7          3.3           5.7          2.1\n",
      "42            4.4          3.2           1.3          0.2\n",
      "88            5.6          3.0           4.1          1.3\n",
      " \n",
      "27         Setosa\n",
      "76     Versicolor\n",
      "124     Virginica\n",
      "42         Setosa\n",
      "88     Versicolor\n",
      "Name: variety, dtype: object\n",
      " \n",
      "(112, 4) (38, 4) (112,) (38,)\n"
     ]
    }
   ],
   "source": [
    "# Making training data and test data\n",
    "x_train, x_test, y_train, y_test = train_test_split(x_iris, y_iris, random_state = 1011)\n",
    "print(x_train.head())\n",
    "print(' ')\n",
    "print(y_train.head())\n",
    "print(' ')\n",
    "print(x_train.shape,x_test.shape,y_train.shape, y_test.shape)"
   ]
  },
  {
   "cell_type": "code",
   "execution_count": 63,
   "metadata": {},
   "outputs": [],
   "source": [
    "# Training with SVM algorithm\n",
    "svmt = svm.SVC(kernel = 'rbf', gamma = 'auto')\n",
    "# kernel 의 default 값은 rbf : rbf 는 방사 기저 함수 (또는 가우시안 커널), 2차원의 점을 무한한 차원의 점으로 변환함\n",
    "# rbf의 차원은 무한함으로 시각화하긴 어려움\n",
    "# kernel 에 linear, poly , sigmoid 등으로 지정할 수 있음\n",
    "# gamma는 결정경계를 얼마나 유연하게 그을 것인지 정해주는 것. gamma 값을 높이면 오버피팅, 낮추면 언더피팅이 발생할 수  있다.\n",
    "svmt.fit(x_train,y_train) # Learning\n",
    "class_prediction = svmt.predict(x_test) # Classification, Prediction\n",
    "\n",
    "ac_score = metrics.accuracy_score(y_test, class_prediction)\n",
    "print(f'Accuracy rate = {ac_score:.5f}')\n",
    "\n",
    "confusion = metrics.confusion_matrix(y_test, class_prediction)\n",
    "print(confusion)"
   ]
  },
  {
   "cell_type": "code",
   "execution_count": 68,
   "metadata": {},
   "outputs": [
    {
     "name": "stdout",
     "output_type": "stream",
     "text": [
      "Accuracy rate = 0.97368\n"
     ]
    }
   ],
   "source": [
    "# Calculating accuracy\n",
    "ac_score = metrics.accuracy_score(y_test, class_prediction)\n",
    "print(f'Accuracy rate = {ac_score:.5f}')"
   ]
  },
  {
   "cell_type": "code",
   "execution_count": 72,
   "metadata": {},
   "outputs": [
    {
     "name": "stdout",
     "output_type": "stream",
     "text": [
      "[('Virginica', 'Versicolor')]\n"
     ]
    }
   ],
   "source": [
    "# Checking incorrect predictions: a list comprehension\n",
    "wrong = [(p,e) for (p,e) in zip(class_prediction, y_test) if p != e]\n",
    "print(wrong)"
   ]
  },
  {
   "cell_type": "markdown",
   "metadata": {},
   "source": [
    "Only one prediction is wrong"
   ]
  },
  {
   "cell_type": "code",
   "execution_count": 73,
   "metadata": {},
   "outputs": [
    {
     "name": "stdout",
     "output_type": "stream",
     "text": [
      "[[15  0  0]\n",
      " [ 0  9  1]\n",
      " [ 0  0 13]]\n"
     ]
    }
   ],
   "source": [
    "confusion = metrics.confusion_matrix(y_test, class_prediction)\n",
    "print(confusion)"
   ]
  },
  {
   "cell_type": "code",
   "execution_count": 74,
   "metadata": {},
   "outputs": [
    {
     "data": {
      "image/png": "[encoded data removed]",
      "text/plain": [
       "<Figure size 432x360 with 2 Axes>"
      ]
     },
     "metadata": {
      "needs_background": "light"
     },
     "output_type": "display_data"
    }
   ],
   "source": [
    "plt.figure(figsize=(6,5))\n",
    "confusion_df = pd.DataFrame(confusion, index = ['setosa','versicolor','virginica'],columns= ['setosa','versicolor','virginica'])\n",
    "axes = sns.heatmap(confusion_df, annot= True, cmap='nipy_spectral_r') #cmap 은 color map 을 뜻함\n",
    "plt.show()"
   ]
  },
  {
   "cell_type": "code",
   "execution_count": 75,
   "metadata": {},
   "outputs": [
    {
     "data": {
      "image/png": "[encoded data removed]",
      "text/plain": [
       "<Figure size 432x288 with 2 Axes>"
      ]
     },
     "metadata": {
      "needs_background": "light"
     },
     "output_type": "display_data"
    }
   ],
   "source": [
    "axes = sns.heatmap(confusion_df, annot= True, cmap='RdYlGn_r') #cmap 은 color map 을 뜻함\n",
    "plt.show()"
   ]
  },
  {
   "cell_type": "code",
   "execution_count": 108,
   "metadata": {},
   "outputs": [],
   "source": [
    "# K-nearest Neighbors Algorithm\n",
    "from sklearn.neighbors import KNeighborsClassifier"
   ]
  },
  {
   "cell_type": "code",
   "execution_count": 109,
   "metadata": {},
   "outputs": [
    {
     "name": "stdout",
     "output_type": "stream",
     "text": [
      "0.9736842105263158\n"
     ]
    }
   ],
   "source": [
    "classifier = KNeighborsClassifier(n_neighbors = 3)\n",
    "classifier.fit(x_train,y_train)\n",
    "print(classifier.score(x_test, y_test))"
   ]
  },
  {
   "cell_type": "code",
   "execution_count": 123,
   "metadata": {},
   "outputs": [
    {
     "data": {
      "image/png": "[encoded data removed]",
      "text/plain": [
       "<Figure size 432x288 with 1 Axes>"
      ]
     },
     "metadata": {
      "needs_background": "light"
     },
     "output_type": "display_data"
    }
   ],
   "source": [
    "import matplotlib.pyplot as plt\n",
    "k_list = range(1,100)\n",
    "accuracies = []\n",
    "for k in k_list:\n",
    "    classifier = KNeighborsClassifier(n_neighbors = k)\n",
    "    classifier.fit(x_train,y_train)\n",
    "    accuracies.append(classifier.score(x_test, y_test))\n",
    "plt.plot(k_list, accuracies)\n",
    "plt.xlabel(\"k\")\n",
    "plt.ylabel(\"Validation Accuracy\")\n",
    "plt.title(\"Iris KNN Classifier Accuracy\")\n",
    "plt.show()"
   ]
  },
  {
   "cell_type": "code",
   "execution_count": 95,
   "metadata": {},
   "outputs": [],
   "source": [
    "# Naive-Bayes Gaussian Kernel\n",
    "from sklearn.naive_bayes import GaussianNB"
   ]
  },
  {
   "cell_type": "code",
   "execution_count": 126,
   "metadata": {},
   "outputs": [
    {
     "data": {
      "text/plain": [
       "0.9473684210526315"
      ]
     },
     "execution_count": 126,
     "metadata": {},
     "output_type": "execute_result"
    }
   ],
   "source": [
    "gnb = GaussianNB()\n",
    "gnb.fit(x_train, y_train)\n",
    "gnb.score(x_test, y_test)"
   ]
  },
  {
   "cell_type": "code",
   "execution_count": 129,
   "metadata": {},
   "outputs": [
    {
     "data": {
      "text/plain": [
       "0.9473684210526315"
      ]
     },
     "execution_count": 129,
     "metadata": {},
     "output_type": "execute_result"
    }
   ],
   "source": [
    "gnb_prediction = gnb.predict(x_test)\n",
    "gnb_score = metrics.accuracy_score(y_test,gnb_prediction)\n",
    "gnb_score"
   ]
  },
  {
   "cell_type": "code",
   "execution_count": null,
   "metadata": {},
   "outputs": [],
   "source": []
  }
 ],
 "metadata": {
  "kernelspec": {
   "display_name": "Python 3",
   "language": "python",
   "name": "python3"
  },
  "language_info": {
   "codemirror_mode": {
    "name": "ipython",
    "version": 3
   },
   "file_extension": ".py",
   "mimetype": "text/x-python",
   "name": "python",
   "nbconvert_exporter": "python",
   "pygments_lexer": "ipython3",
   "version": "3.8.5"
  }
 },
 "nbformat": 4,
 "nbformat_minor": 5
}
