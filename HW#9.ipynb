{
 "cells": [
  {
   "cell_type": "markdown",
   "metadata": {},
   "source": [
    "### Tensorflow 1.0"
   ]
  },
  {
   "cell_type": "code",
   "execution_count": 73,
   "metadata": {},
   "outputs": [],
   "source": [
    "import tensorflow as tf\n",
    "import numpy as np\n",
    "import math\n",
    "import matplotlib.pyplot as plt\n",
    "import pandas as pd\n",
    "from tensorflow import keras\n",
    "from tensorflow.keras import layers\n",
    "\n",
    "import tensorflow.compat.v1 as tf\n",
    "tf.disable_v2_behavior()"
   ]
  },
  {
   "cell_type": "code",
   "execution_count": 74,
   "metadata": {},
   "outputs": [],
   "source": [
    "X = np.array([[0.2],[0.8]], dtype = np.float32)\n",
    "Y = np.array([[0],[1]], dtype = np.float32)\n",
    "#[[w1, w3],[w2, w4]]\n",
    "w1 = tf.Variable([[0.15, 0.25],[0.2,0.3]])\n",
    "#[[w5, w7],[w6, w8]]\n",
    "w2 = tf.Variable([[0.4, 0.5],[0.45,0.55]])\n",
    "\n",
    "hidden = tf.sigmoid(tf.matmul(w1,X)+[[0.2],[0.2]])\n",
    "outputs = tf.sigmoid(tf.matmul(w2, hidden)+[[0.5],[0.5]])\n",
    "\n",
    "\n",
    "loss = tf.reduce_mean(tf.square(outputs - Y))\n",
    "\n",
    "predicted = tf.cast(outputs>0.5, dtype=tf.float32)\n",
    "\n",
    "optimizer = tf.train.GradientDescentOptimizer(learning_rate=0.4)\n",
    "\n",
    "train = optimizer.minimize(loss)\n",
    "\n",
    "accuracy = tf.reduce_mean(tf.cast(tf.equal(predicted, Y), dtype = tf.float32))"
   ]
  },
  {
   "cell_type": "code",
   "execution_count": 80,
   "metadata": {
    "scrolled": false
   },
   "outputs": [
    {
     "name": "stdout",
     "output_type": "stream",
     "text": [
      "<Turn 0>\n",
      "Weights:  [array([[0.14930938, 0.24723752],\n",
      "       [0.19913545, 0.29654178]], dtype=float32), array([[0.3655354 , 0.46485993],\n",
      "       [0.46116534, 0.5613842 ]], dtype=float32)]\n",
      "Loss:  0.29839587\n",
      "Hypothesis:  [[0.73264945]\n",
      " [0.75501734]]\n",
      "Predicted:  [[1.]\n",
      " [1.]]\n",
      "Accuracy:  0.5\n",
      " \n",
      "<Turn 1>\n",
      "Weights:  [array([[0.14870618, 0.24482474],\n",
      "       [0.19835524, 0.29342094]], dtype=float32), array([[0.33078873, 0.4294393 ],\n",
      "       [0.47213688, 0.57256854]], dtype=float32)]\n",
      "Loss:  0.29157138\n",
      "Hypothesis:  [[0.7240791 ]\n",
      " [0.75740516]]\n",
      "Predicted:  [[1.]\n",
      " [1.]]\n",
      "Accuracy:  0.5\n",
      " \n",
      "<Turn 2>\n",
      "Weights:  [array([[0.1481936 , 0.24277441],\n",
      "       [0.1976629 , 0.2906516 ]], dtype=float32), array([[0.2957906 , 0.39376974],\n",
      "       [0.48292089, 0.5835594 ]], dtype=float32)]\n",
      "Loss:  0.28469175\n",
      "Hypothesis:  [[0.71530455]\n",
      " [0.75974405]]\n",
      "Predicted:  [[1.]\n",
      " [1.]]\n",
      "Accuracy:  0.5\n",
      " \n",
      "<Turn 1000>\n",
      "Weights:  [array([[0.4132507 , 1.3030025 ],\n",
      "       [0.45370534, 1.3148205 ]], dtype=float32), array([[-2.5205965, -2.4501278],\n",
      "       [ 1.7989616,  1.9097278]], dtype=float32)]\n",
      "Loss:  0.00097507995\n",
      "Hypothesis:  [[0.03124747]\n",
      " [0.96879494]]\n",
      "Predicted:  [[0.]\n",
      " [1.]]\n",
      "Accuracy:  1.0\n",
      " \n",
      "<Turn 2000>\n",
      "Weights:  [array([[0.44927928, 1.4471167 ],\n",
      "       [0.4896925 , 1.4587692 ]], dtype=float32), array([[-2.7185128, -2.648735 ],\n",
      "       [ 2.0004156,  2.1118836]], dtype=float32)]\n",
      "Loss:  0.00043954316\n",
      "Hypothesis:  [[0.0207853 ]\n",
      " [0.97885627]]\n",
      "Predicted:  [[0.]\n",
      " [1.]]\n",
      "Accuracy:  1.0\n",
      " \n",
      "<Turn 3000>\n",
      "Weights:  [array([[0.46912605, 1.5265038 ],\n",
      "       [0.5095087 , 1.5380338 ]], dtype=float32), array([[-2.82756  , -2.7581325],\n",
      "       [ 2.1138806,  2.2257104]], dtype=float32)]\n",
      "Loss:  0.000279384\n",
      "Hypothesis:  [[0.01652548]\n",
      " [0.98309803]]\n",
      "Predicted:  [[0.]\n",
      " [1.]]\n",
      "Accuracy:  1.0\n",
      " \n",
      "<Turn 4000>\n",
      "Weights:  [array([[0.48274806, 1.5809919 ],\n",
      "       [0.5231054 , 1.592421  ]], dtype=float32), array([[-2.902771, -2.83357 ],\n",
      "       [ 2.192725,  2.304794]], dtype=float32)]\n",
      "Loss:  0.00020350983\n",
      "Hypothesis:  [[0.01408714]\n",
      " [0.985558  ]]\n",
      "Predicted:  [[0.]\n",
      " [1.]]\n",
      "Accuracy:  1.0\n",
      " \n",
      "<Turn 5000>\n",
      "Weights:  [array([[0.4930783 , 1.6223128 ],\n",
      "       [0.53341395, 1.633654  ]], dtype=float32), array([[-2.9601068, -2.8910737],\n",
      "       [ 2.2530417,  2.3652856]], dtype=float32)]\n",
      "Loss:  0.0001595297\n",
      "Hypothesis:  [[0.01246485]\n",
      " [0.987206  ]]\n",
      "Predicted:  [[0.]\n",
      " [1.]]\n",
      "Accuracy:  1.0\n",
      " \n",
      "<Turn 6000>\n",
      "Weights:  [array([[0.50137675, 1.6555074 ],\n",
      "       [0.54169315, 1.6667721 ]], dtype=float32), array([[-3.0063977, -2.9374952],\n",
      "       [ 2.3018272,  2.4142096]], dtype=float32)]\n",
      "Loss:  0.00013092648\n",
      "Hypothesis:  [[0.01128846]\n",
      " [0.9884059 ]]\n",
      "Predicted:  [[0.]\n",
      " [1.]]\n",
      "Accuracy:  1.0\n",
      " \n",
      "<Turn 7000>\n",
      "Weights:  [array([[0.5082992 , 1.6831977 ],\n",
      "       [0.54859877, 1.6943945 ]], dtype=float32), array([[-3.0451908, -2.976396 ],\n",
      "       [ 2.3427536,  2.4552474]], dtype=float32)]\n",
      "Loss:  0.000110877874\n",
      "Hypothesis:  [[0.01038641]\n",
      " [0.9893286 ]]\n",
      "Predicted:  [[0.]\n",
      " [1.]]\n",
      "Accuracy:  1.0\n",
      " \n",
      "<Turn 8000>\n",
      "Weights:  [array([[0.5142299, 1.7069197],\n",
      "       [0.5545139, 1.7180533]], dtype=float32), array([[-3.0785651, -3.009859 ],\n",
      "       [ 2.37798  ,  2.4905705]], dtype=float32)]\n",
      "Loss:  9.606693e-05\n",
      "Hypothesis:  [[0.00966692]\n",
      " [0.990066  ]]\n",
      "Predicted:  [[0.]\n",
      " [1.]]\n",
      "Accuracy:  1.0\n",
      " \n",
      "<Turn 9000>\n",
      "Weights:  [array([[0.51941174, 1.727647  ],\n",
      "       [0.5596816 , 1.7387238 ]], dtype=float32), array([[-3.1078415, -3.0392122],\n",
      "       [ 2.4088898,  2.521563 ]], dtype=float32)]\n",
      "Loss:  8.468995e-05\n",
      "Hypothesis:  [[0.00907606]\n",
      " [0.99067235]]\n",
      "Predicted:  [[0.]\n",
      " [1.]]\n",
      "Accuracy:  1.0\n",
      " \n",
      "<Turn 10000>\n",
      "Weights:  [array([[0.5240088 , 1.7460368 ],\n",
      "       [0.56426567, 1.7570624 ]], dtype=float32), array([[-3.1339102, -3.0653486],\n",
      "       [ 2.436418 ,  2.5491629]], dtype=float32)]\n",
      "Loss:  7.56852e-05\n",
      "Hypothesis:  [[0.00857991]\n",
      " [0.9911821 ]]\n",
      "Predicted:  [[0.]\n",
      " [1.]]\n",
      "Accuracy:  1.0\n",
      " \n"
     ]
    }
   ],
   "source": [
    "count = 0\n",
    "with tf.Session() as sess:\n",
    "    sess.run(tf.compat.v1.global_variables_initializer())\n",
    "    df_data = []\n",
    "    loss_data = []\n",
    "    accuracy_data = []\n",
    "    step_data = []\n",
    "    for step in range(10001):\n",
    "        sess.run(train)\n",
    "        h, p, a = sess.run([outputs, predicted, accuracy])\n",
    "        if (step in [0,1,2]) or (step % 1000 == 0):\n",
    "            print('<Turn {}>'.format(step))\n",
    "            print('Weights: ', sess.run([w1,w2]))\n",
    "            print('Loss: ', sess.run(loss))            \n",
    "            print('Hypothesis: ',h)\n",
    "            print('Predicted: ', p)\n",
    "            print('Accuracy: ', a)\n",
    "            print(' ')\n",
    "        #if a == 1:\n",
    "            #print(step)\n",
    "        if (step in [0,1]):\n",
    "            weights = sess.run([w1,w2])\n",
    "            df_data.append([step, weights[0][0][0], weights[0][1][0], weights[0][0][1], weights[0][1][1],\n",
    "                          weights[1][0][0], weights[1][1][0], weights[1][0][1], weights[1][1][1], \n",
    "                           sess.run(loss)])\n",
    "        #if step % 1000 == 0:\n",
    "            \n",
    "        loss_data.append(sess.run(loss))\n",
    "        step_data.append(step)\n"
   ]
  },
  {
   "cell_type": "code",
   "execution_count": 76,
   "metadata": {},
   "outputs": [
    {
     "data": {
      "text/html": [
       "<div>\n",
       "<style scoped>\n",
       "    .dataframe tbody tr th:only-of-type {\n",
       "        vertical-align: middle;\n",
       "    }\n",
       "\n",
       "    .dataframe tbody tr th {\n",
       "        vertical-align: top;\n",
       "    }\n",
       "\n",
       "    .dataframe thead th {\n",
       "        text-align: right;\n",
       "    }\n",
       "</style>\n",
       "<table border=\"1\" class=\"dataframe\">\n",
       "  <thead>\n",
       "    <tr style=\"text-align: right;\">\n",
       "      <th></th>\n",
       "      <th>Epochs</th>\n",
       "      <th>w1</th>\n",
       "      <th>w2</th>\n",
       "      <th>w3</th>\n",
       "      <th>w4</th>\n",
       "      <th>w5</th>\n",
       "      <th>w6</th>\n",
       "      <th>w7</th>\n",
       "      <th>w8</th>\n",
       "      <th>MSE</th>\n",
       "    </tr>\n",
       "  </thead>\n",
       "  <tbody>\n",
       "    <tr>\n",
       "      <th>0</th>\n",
       "      <td>0</td>\n",
       "      <td>0.149309</td>\n",
       "      <td>0.199135</td>\n",
       "      <td>0.247238</td>\n",
       "      <td>0.296542</td>\n",
       "      <td>0.365535</td>\n",
       "      <td>0.461165</td>\n",
       "      <td>0.464860</td>\n",
       "      <td>0.561384</td>\n",
       "      <td>0.298396</td>\n",
       "    </tr>\n",
       "    <tr>\n",
       "      <th>1</th>\n",
       "      <td>1</td>\n",
       "      <td>0.148706</td>\n",
       "      <td>0.198355</td>\n",
       "      <td>0.244825</td>\n",
       "      <td>0.293421</td>\n",
       "      <td>0.330789</td>\n",
       "      <td>0.472137</td>\n",
       "      <td>0.429439</td>\n",
       "      <td>0.572569</td>\n",
       "      <td>0.291571</td>\n",
       "    </tr>\n",
       "  </tbody>\n",
       "</table>\n",
       "</div>"
      ],
      "text/plain": [
       "   Epochs        w1        w2        w3        w4        w5        w6  \\\n",
       "0       0  0.149309  0.199135  0.247238  0.296542  0.365535  0.461165   \n",
       "1       1  0.148706  0.198355  0.244825  0.293421  0.330789  0.472137   \n",
       "\n",
       "         w7        w8       MSE  \n",
       "0  0.464860  0.561384  0.298396  \n",
       "1  0.429439  0.572569  0.291571  "
      ]
     },
     "execution_count": 76,
     "metadata": {},
     "output_type": "execute_result"
    }
   ],
   "source": [
    "pd.DataFrame(df_data, columns = ['Epochs','w1','w2','w3','w4','w5','w6','w7','w8','MSE'])"
   ]
  },
  {
   "cell_type": "code",
   "execution_count": 83,
   "metadata": {},
   "outputs": [
    {
     "data": {
      "image/png": "[encoded data removed]",
      "text/plain": [
       "<Figure size 432x288 with 1 Axes>"
      ]
     },
     "metadata": {
      "needs_background": "light"
     },
     "output_type": "display_data"
    }
   ],
   "source": [
    "plt.plot(step_data[::1000],loss_data[::1000])\n",
    "plt.title('Model1 MSE')\n",
    "plt.xlabel('Epochs')\n",
    "plt.ylabel('MSE Value')\n",
    "plt.show()"
   ]
  },
  {
   "cell_type": "code",
   "execution_count": 82,
   "metadata": {},
   "outputs": [
    {
     "data": {
      "image/png": "[encoded data removed]",
      "text/plain": [
       "<Figure size 432x288 with 1 Axes>"
      ]
     },
     "metadata": {
      "needs_background": "light"
     },
     "output_type": "display_data"
    }
   ],
   "source": [
    "plt.plot(step_data[:1000],loss_data[:1000])\n",
    "plt.title('Model1 MSE')\n",
    "plt.xlabel('Epochs')\n",
    "plt.ylabel('MSE Value')\n",
    "plt.show()"
   ]
  },
  {
   "cell_type": "markdown",
   "metadata": {},
   "source": [
    "# Tensorflow 2.0"
   ]
  },
  {
   "cell_type": "markdown",
   "metadata": {},
   "source": [
    "* Please restart the kernel to regularly import TensorFlow 2.0."
   ]
  },
  {
   "cell_type": "markdown",
   "metadata": {},
   "source": [
    "### Model2 - both weights and bias are trained"
   ]
  },
  {
   "cell_type": "code",
   "execution_count": 1,
   "metadata": {},
   "outputs": [],
   "source": [
    "import tensorflow as tf\n",
    "import numpy as np\n",
    "import math\n",
    "import matplotlib.pyplot as plt\n",
    "from tensorflow import keras\n",
    "from tensorflow.keras import layers"
   ]
  },
  {
   "cell_type": "code",
   "execution_count": 2,
   "metadata": {},
   "outputs": [],
   "source": [
    "def plot_accuracy(history, title = 'Model Accuracy'):\n",
    "    plt.plot(history.history['accuracy'])\n",
    "    plt.title(title)\n",
    "    plt.xlabel('Epochs')\n",
    "    plt.ylabel('Accuracy Value')\n",
    "    return plt.show()\n",
    "def plot_loss(history, title = 'Model Loss'):\n",
    "    plt.plot(history.history['loss'])\n",
    "    plt.title(title)\n",
    "    plt.xlabel('Epochs')\n",
    "    plt.ylabel('MSE Value')\n",
    "    return plt.show()\n",
    "def eval_predict(model):\n",
    "    global x, y\n",
    "    print(model.evaluate(x,y))\n",
    "    print(model.predict(x))\n",
    "    print((model.predict(x) > 0.5).astype(\"int32\"))"
   ]
  },
  {
   "cell_type": "code",
   "execution_count": 3,
   "metadata": {},
   "outputs": [
    {
     "name": "stdout",
     "output_type": "stream",
     "text": [
      "Model: \"HW9\"\n",
      "_________________________________________________________________\n",
      " Layer (type)                Output Shape              Param #   \n",
      "=================================================================\n",
      " input_1 (InputLayer)        [(None, 2)]               0         \n",
      "                                                                 \n",
      " dense (Dense)               (None, 2)                 6         \n",
      "                                                                 \n",
      " dense_1 (Dense)             (None, 2)                 6         \n",
      "                                                                 \n",
      "=================================================================\n",
      "Total params: 12\n",
      "Trainable params: 12\n",
      "Non-trainable params: 0\n",
      "_________________________________________________________________\n"
     ]
    }
   ],
   "source": [
    "tf.keras.backend.clear_session()\n",
    "\n",
    "inputs = tf.keras.Input(shape=(2,))\n",
    "\n",
    "layer = layers.Dense(2, activation='sigmoid')\n",
    "hidden = layer(inputs)\n",
    "\n",
    "outputs = layers.Dense(2, activation = 'sigmoid')(hidden)\n",
    "\n",
    "model = tf.keras.Model(inputs=inputs, outputs=outputs, name=\"HW9\")\n",
    "model.summary()"
   ]
  },
  {
   "cell_type": "code",
   "execution_count": 4,
   "metadata": {},
   "outputs": [],
   "source": [
    "x = np.array([[0.2, 0.8]])\n",
    "y = np.array([[0, 1]])\n",
    "w1 = np.array([[0.15, 0.25],[0.2,0.3]])\n",
    "b1 = np.array([0.2,0.2])\n",
    "w2 = np.array([[0.4, 0.5],[0.45,0.55]])\n",
    "b2 = np.array([0.3, 0.3])"
   ]
  },
  {
   "cell_type": "code",
   "execution_count": 5,
   "metadata": {},
   "outputs": [
    {
     "name": "stdout",
     "output_type": "stream",
     "text": [
      "W1~W4:  [array([[ 0.01405168,  0.3571502 ],\n",
      "       [-0.8394592 ,  0.02715933]], dtype=float32), array([0., 0.], dtype=float32)]\n",
      "W5~W8:  [array([[-0.62487566,  0.9377552 ],\n",
      "       [-0.5260006 ,  0.33591437]], dtype=float32), array([0., 0.], dtype=float32)]\n",
      " \n",
      "Revised Weight & Bias\n",
      "W1~W4:  [array([[0.15, 0.25],\n",
      "       [0.2 , 0.3 ]], dtype=float32), array([0.2, 0.2], dtype=float32)]\n",
      "W5~W8:  [array([[0.4 , 0.5 ],\n",
      "       [0.45, 0.55]], dtype=float32), array([0.3, 0.3], dtype=float32)]\n"
     ]
    }
   ],
   "source": [
    "print('W1~W4: ', model.layers[1].get_weights())\n",
    "print('W5~W8: ', model.layers[2].get_weights())\n",
    "model.layers[1].set_weights([w1,b1])\n",
    "model.layers[2].set_weights([w2,b2])\n",
    "print(' ')\n",
    "print('Revised Weight & Bias')\n",
    "print('W1~W4: ', model.layers[1].get_weights())\n",
    "print('W5~W8: ', model.layers[2].get_weights())"
   ]
  },
  {
   "cell_type": "code",
   "execution_count": 19,
   "metadata": {},
   "outputs": [],
   "source": [
    "model.compile(optimizer = tf.keras.optimizers.SGD(learning_rate = 0.4), loss = 'mse', \n",
    "              metrics = ['accuracy'])\n",
    "history = model.fit(x=x, y=y, epochs = 10000, verbose = 0, batch_size = 1)"
   ]
  },
  {
   "cell_type": "code",
   "execution_count": 20,
   "metadata": {},
   "outputs": [
    {
     "data": {
      "text/plain": [
       "[0.0005885070422664285,\n",
       " 0.00027372510521672666,\n",
       " 0.00017625236068852246,\n",
       " 0.0001293378882110119,\n",
       " 0.0001018838956952095,\n",
       " 8.391376468352973e-05,\n",
       " 7.125553383957595e-05,\n",
       " 6.186947575770319e-05,\n",
       " 5.463958950713277e-05,\n",
       " 4.890031777904369e-05]"
      ]
     },
     "execution_count": 20,
     "metadata": {},
     "output_type": "execute_result"
    }
   ],
   "source": [
    "history.history['loss'][::1000]"
   ]
  },
  {
   "cell_type": "code",
   "execution_count": 7,
   "metadata": {},
   "outputs": [
    {
     "data": {
      "text/plain": [
       "[array([[0.23244156, 0.33076024],\n",
       "        [0.52976626, 0.62304103]], dtype=float32),\n",
       " array([0.61220765, 0.60380316], dtype=float32),\n",
       " array([[-1.0845953,  1.3549318],\n",
       "        [-1.0834051,  1.431251 ]], dtype=float32),\n",
       " array([-2.0387788,  1.6101844], dtype=float32)]"
      ]
     },
     "execution_count": 7,
     "metadata": {},
     "output_type": "execute_result"
    }
   ],
   "source": [
    "model.get_weights()"
   ]
  },
  {
   "cell_type": "code",
   "execution_count": 8,
   "metadata": {},
   "outputs": [
    {
     "data": {
      "image/png": "[encoded data removed]",
      "text/plain": [
       "<Figure size 432x288 with 1 Axes>"
      ]
     },
     "metadata": {
      "needs_background": "light"
     },
     "output_type": "display_data"
    }
   ],
   "source": [
    "plot_accuracy(history)"
   ]
  },
  {
   "cell_type": "code",
   "execution_count": 11,
   "metadata": {},
   "outputs": [
    {
     "data": {
      "image/png": "[encoded data removed]",
      "text/plain": [
       "<Figure size 432x288 with 1 Axes>"
      ]
     },
     "metadata": {
      "needs_background": "light"
     },
     "output_type": "display_data"
    }
   ],
   "source": [
    "plot_loss(history, 'Model2 MSE')"
   ]
  },
  {
   "cell_type": "markdown",
   "metadata": {},
   "source": [
    "## Model 3 - No Bias in the model"
   ]
  },
  {
   "cell_type": "code",
   "execution_count": 12,
   "metadata": {},
   "outputs": [
    {
     "name": "stdout",
     "output_type": "stream",
     "text": [
      "Model: \"HW9\"\n",
      "_________________________________________________________________\n",
      " Layer (type)                Output Shape              Param #   \n",
      "=================================================================\n",
      " input_1 (InputLayer)        [(None, 2)]               0         \n",
      "                                                                 \n",
      " dense (Dense)               (None, 2)                 4         \n",
      "                                                                 \n",
      " dense_1 (Dense)             (None, 2)                 4         \n",
      "                                                                 \n",
      "=================================================================\n",
      "Total params: 8\n",
      "Trainable params: 8\n",
      "Non-trainable params: 0\n",
      "_________________________________________________________________\n"
     ]
    }
   ],
   "source": [
    "tf.keras.backend.clear_session()\n",
    "\n",
    "inputs = tf.keras.Input(shape=(2,))\n",
    "\n",
    "layer = layers.Dense(2, activation='sigmoid', use_bias = False )\n",
    "hidden = layer(inputs)\n",
    "\n",
    "outputs = layers.Dense(2, activation = 'sigmoid', use_bias = False )(hidden)\n",
    "\n",
    "model = tf.keras.Model(inputs=inputs, outputs=outputs, name=\"HW9\")\n",
    "model.summary()"
   ]
  },
  {
   "cell_type": "code",
   "execution_count": 13,
   "metadata": {},
   "outputs": [],
   "source": [
    "x = np.array([[0.2, 0.8]])\n",
    "y = np.array([[0, 1]])\n",
    "w1 = np.array([[0.15, 0.25],[0.2,0.3]])\n",
    "w2 = np.array([[0.4, 0.5],[0.45,0.55]])"
   ]
  },
  {
   "cell_type": "code",
   "execution_count": 14,
   "metadata": {},
   "outputs": [
    {
     "name": "stdout",
     "output_type": "stream",
     "text": [
      "[array([[ 0.63135695,  0.88794816],\n",
      "       [-0.00576651, -0.515839  ]], dtype=float32), array([[ 0.74269617,  0.60665333],\n",
      "       [-0.41531813,  1.1795245 ]], dtype=float32)]\n",
      " \n",
      "Revised Weight & Bias\n",
      "[array([[0.15, 0.25],\n",
      "       [0.2 , 0.3 ]], dtype=float32), array([[0.4 , 0.5 ],\n",
      "       [0.45, 0.55]], dtype=float32)]\n"
     ]
    }
   ],
   "source": [
    "print(model.get_weights())\n",
    "model.set_weights([w1,w2])\n",
    "print(' ')\n",
    "print('Revised Weight & Bias')\n",
    "print(model.get_weights())"
   ]
  },
  {
   "cell_type": "code",
   "execution_count": 15,
   "metadata": {},
   "outputs": [],
   "source": [
    "model.compile(optimizer = tf.keras.optimizers.SGD(learning_rate = 0.4), loss = 'mse', \n",
    "              metrics = ['accuracy'])\n",
    "history = model.fit(x=x, y=y, epochs = 1000, verbose = 0, batch_size = 1)"
   ]
  },
  {
   "cell_type": "code",
   "execution_count": 16,
   "metadata": {},
   "outputs": [
    {
     "data": {
      "text/plain": [
       "[array([[0.4425088, 0.541298 ],\n",
       "        [1.3700349, 1.4651906]], dtype=float32),\n",
       " array([[-2.1773689,  2.1660428],\n",
       "        [-2.2221353,  2.2747228]], dtype=float32)]"
      ]
     },
     "execution_count": 16,
     "metadata": {},
     "output_type": "execute_result"
    }
   ],
   "source": [
    "model.get_weights()"
   ]
  },
  {
   "cell_type": "code",
   "execution_count": 17,
   "metadata": {},
   "outputs": [
    {
     "data": {
      "text/plain": [
       "array([[0.03210196, 0.968892  ]], dtype=float32)"
      ]
     },
     "execution_count": 17,
     "metadata": {},
     "output_type": "execute_result"
    }
   ],
   "source": [
    "model.predict([[0.2,0.8]])"
   ]
  },
  {
   "cell_type": "code",
   "execution_count": 19,
   "metadata": {},
   "outputs": [
    {
     "data": {
      "image/png": "[encoded data removed]",
      "text/plain": [
       "<Figure size 432x288 with 1 Axes>"
      ]
     },
     "metadata": {
      "needs_background": "light"
     },
     "output_type": "display_data"
    }
   ],
   "source": [
    "plot_accuracy(history)"
   ]
  },
  {
   "cell_type": "code",
   "execution_count": 21,
   "metadata": {},
   "outputs": [
    {
     "data": {
      "image/png": "[encoded data removed]",
      "text/plain": [
       "<Figure size 432x288 with 1 Axes>"
      ]
     },
     "metadata": {
      "needs_background": "light"
     },
     "output_type": "display_data"
    }
   ],
   "source": [
    "plot_loss(history, 'Model3 MSE')"
   ]
  },
  {
   "cell_type": "code",
   "execution_count": null,
   "metadata": {},
   "outputs": [],
   "source": [
    "history.history[]"
   ]
  }
 ],
 "metadata": {
  "kernelspec": {
   "display_name": "Python 3 (ipykernel)",
   "language": "python",
   "name": "python3"
  },
  "language_info": {
   "codemirror_mode": {
    "name": "ipython",
    "version": 3
   },
   "file_extension": ".py",
   "mimetype": "text/x-python",
   "name": "python",
   "nbconvert_exporter": "python",
   "pygments_lexer": "ipython3",
   "version": "3.8.5"
  }
 },
 "nbformat": 4,
 "nbformat_minor": 4
}
